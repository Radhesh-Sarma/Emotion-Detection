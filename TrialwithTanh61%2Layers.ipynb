{
 "cells": [
  {
   "cell_type": "code",
   "execution_count": 19,
   "metadata": {
    "id": "cBQNjXiigAn0"
   },
   "outputs": [],
   "source": [
    "import numpy\n",
    "import random\n",
    "import matplotlib.pyplot as plt\n",
    "#from google.colab import drive\n",
    "\n",
    "import numpy as np\n",
    "import pandas as pd\n",
    "from sklearn import model_selection\n",
    "import seaborn as sns\n",
    "plt.style.use('seaborn')"
   ]
  },
  {
   "cell_type": "code",
   "execution_count": 20,
   "metadata": {
    "colab": {
     "base_uri": "https://localhost:8080/",
     "height": 522
    },
    "id": "QSmcL3D6wsbj",
    "outputId": "07c3ef79-00db-420e-f55d-a63e8749ae85"
   },
   "outputs": [],
   "source": [
    "#drive.mount('/content/gdrive')"
   ]
  },
  {
   "cell_type": "code",
   "execution_count": 21,
   "metadata": {
    "id": "GDfC9ZbltisJ"
   },
   "outputs": [],
   "source": [
    "def sigmoid(inpt):\n",
    "    return 1.0 / (1.0 + numpy.exp(-1 * inpt))\n",
    "\n",
    "def relu(inpt):\n",
    "    result = inpt\n",
    "    result[inpt < 0] = 0\n",
    "    return result\n",
    "\n",
    "def tanh(inpt):\n",
    "    return (2*sigmoid(2*inpt) - 1)"
   ]
  },
  {
   "cell_type": "markdown",
   "metadata": {
    "id": "qoRgAa90uE21"
   },
   "source": [
    "#Genetic Algorithm"
   ]
  },
  {
   "cell_type": "code",
   "execution_count": 22,
   "metadata": {
    "id": "NLqVIAF9gR0m"
   },
   "outputs": [],
   "source": [
    "def select_mating_pool(pop, fitness, num_parents):\n",
    "    # Selecting the best individuals in the current generation as parents for producing the offspring of the next generation.\n",
    "    parents = numpy.empty((num_parents, pop.shape[1]))\n",
    "    for parent_num in range(num_parents):\n",
    "        max_fitness_idx = numpy.where(fitness == numpy.max(fitness))\n",
    "        max_fitness_idx = max_fitness_idx[0][0]\n",
    "        parents[parent_num, :] = pop[max_fitness_idx, :]\n",
    "        fitness[max_fitness_idx] = -99999999999\n",
    "    return parents"
   ]
  },
  {
   "cell_type": "code",
   "execution_count": 23,
   "metadata": {
    "id": "eRW6ebNigLwa"
   },
   "outputs": [],
   "source": [
    "def crossover(parents, offspring_size):\n",
    "    offspring = numpy.empty(offspring_size)\n",
    "    # The point at which crossover takes place between two parents. Usually, it is at the center.\n",
    "    crossover_point = numpy.uint32(offspring_size[1]/2)\n",
    "    \n",
    "    for k in range(offspring_size[0]):\n",
    "        # Index of the first parent to mate.\n",
    "        parent1_idx = k%parents.shape[0]\n",
    "        # Index of the second parent to mate.\n",
    "        parent2_idx = (k+1)%parents.shape[0]\n",
    "        # The new offspring will have its first half of its genes taken from the first parent.\n",
    "        offspring[k, 0:crossover_point] = parents[parent1_idx, 0:crossover_point]\n",
    "        # The new offspring will have its second half of its genes taken from the second parent.\n",
    "        offspring[k, crossover_point:] = parents[parent2_idx, crossover_point:]\n",
    "    return offspring"
   ]
  },
  {
   "cell_type": "code",
   "execution_count": 24,
   "metadata": {
    "id": "j08HFdBngHv4"
   },
   "outputs": [],
   "source": [
    "def mutation(offspring_crossover, mutation_percent):\n",
    "    num_mutations = numpy.uint32((mutation_percent*offspring_crossover.shape[1])/100)\n",
    "    mutation_indices = numpy.array(random.sample(range(0, offspring_crossover.shape[1]), num_mutations))\n",
    "\n",
    "    # Mutation changes a single gene in each offspring randomly.\n",
    "\n",
    "    for idx in range(offspring_crossover.shape[0]):\n",
    "        # The random value to be added to the gene.\n",
    "        random_value = numpy.random.uniform(-1.0, 1.0, 1)\n",
    "        offspring_crossover[idx, mutation_indices] = offspring_crossover[idx, mutation_indices] + random_value\n",
    "    return offspring_crossover"
   ]
  },
  {
   "cell_type": "markdown",
   "metadata": {
    "id": "G2eYRxPNh5Lf"
   },
   "source": [
    "# Changing weight matrices to 1-D vectors"
   ]
  },
  {
   "cell_type": "code",
   "execution_count": 25,
   "metadata": {
    "id": "mqRglZErgHPS"
   },
   "outputs": [],
   "source": [
    "def mat_to_vector(mat_pop_weights):\n",
    "    pop_weights_vector = []\n",
    "    for sol_idx in range(mat_pop_weights.shape[0]):\n",
    "        curr_vector = []\n",
    "        for layer_idx in range(mat_pop_weights.shape[1]):\n",
    "            vector_weights = numpy.reshape(mat_pop_weights[sol_idx, layer_idx], newshape=(mat_pop_weights[sol_idx, layer_idx].size))\n",
    "            curr_vector.extend(vector_weights)\n",
    "        pop_weights_vector.append(curr_vector)\n",
    "    return numpy.array(pop_weights_vector)"
   ]
  },
  {
   "cell_type": "markdown",
   "metadata": {
    "id": "hC0E-NVQjbbK"
   },
   "source": [
    "# Changing 1-D vectors to weight matrices"
   ]
  },
  {
   "cell_type": "code",
   "execution_count": 26,
   "metadata": {
    "id": "kdhrp-wai-bT"
   },
   "outputs": [],
   "source": [
    "def vector_to_mat(vector_pop_weights, mat_pop_weights):\n",
    "    mat_weights = []\n",
    "    for sol_idx in range(mat_pop_weights.shape[0]):\n",
    "        start = 0\n",
    "        end = 0\n",
    "        for layer_idx in range(mat_pop_weights.shape[1]):\n",
    "            end = end + mat_pop_weights[sol_idx, layer_idx].size\n",
    "            curr_vector = vector_pop_weights[sol_idx, start:end]\n",
    "            mat_layer_weights = numpy.reshape(curr_vector, newshape=(mat_pop_weights[sol_idx, layer_idx].shape))\n",
    "            mat_weights.append(mat_layer_weights)\n",
    "            start = end\n",
    "    return numpy.reshape(mat_weights, newshape=mat_pop_weights.shape)"
   ]
  },
  {
   "cell_type": "markdown",
   "metadata": {
    "id": "C33iG1_bkb1U"
   },
   "source": [
    "# Muliplying weights with input to predict output**"
   ]
  },
  {
   "cell_type": "code",
   "execution_count": 27,
   "metadata": {
    "id": "sN1Db8hhkp_h"
   },
   "outputs": [],
   "source": [
    "def predict_outputs(weights_mat, data_inputs, data_outputs, activation):\n",
    "    predictions = numpy.zeros(shape=(data_inputs.shape[0]))\n",
    "    for sample_idx in range(data_inputs.shape[0]):\n",
    "        r1 = data_inputs[sample_idx, :]\n",
    "        for curr_weights in weights_mat:\n",
    "            r1 = r1 @ curr_weights\n",
    "            if activation == \"relu\":\n",
    "                r1 = relu(r1)\n",
    "            elif activation == \"sigmoid\":\n",
    "                r1 = sigmoid(r1)\n",
    "        predicted_label = numpy.where(r1 == numpy.max(r1))[0][0]\n",
    "        predictions[sample_idx] = predicted_label\n",
    "    correct_predictions = numpy.where(predictions == data_outputs)[0].size\n",
    "    accuracy = (correct_predictions/data_outputs.size)*100\n",
    "    return accuracy, predictions"
   ]
  },
  {
   "cell_type": "markdown",
   "metadata": {
    "id": "UeFGCvCTkdq5"
   },
   "source": [
    "# Fitness Function"
   ]
  },
  {
   "cell_type": "code",
   "execution_count": 28,
   "metadata": {
    "id": "-pEEHijkmGbh"
   },
   "outputs": [],
   "source": [
    "def fitness(weights_mat, data_inp, data_out, activation):\n",
    "    accuracy = numpy.empty(shape=(weights_mat.shape[0]))\n",
    "    for sol_idx in range(weights_mat.shape[0]):\n",
    "        curr_sol_mat = weights_mat[sol_idx, :]\n",
    "        accuracy[sol_idx], _ = predict_outputs(curr_sol_mat, data_inp, data_out, activation=activation)\n",
    "    return accuracy"
   ]
  },
  {
   "cell_type": "markdown",
   "metadata": {
    "id": "wfRTvrQLpC_u"
   },
   "source": [
    "# Read the dataset "
   ]
  },
  {
   "cell_type": "code",
   "execution_count": 29,
   "metadata": {
    "id": "lWVjrrUruW1k"
   },
   "outputs": [],
   "source": [
    "def normalize(dataset):\n",
    "    dataNorm=((dataset-dataset.mean())/(dataset.std()))\n",
    "    dataNorm[\"Sad?\"]=dataset[\"Sad?\"]\n",
    "    return dataNorm"
   ]
  },
  {
   "cell_type": "code",
   "execution_count": 30,
   "metadata": {
    "id": "it3WtDEyo8oJ"
   },
   "outputs": [
    {
     "name": "stdout",
     "output_type": "stream",
     "text": [
      "     Sad?  confidence  gaze_0_x  gaze_0_y  gaze_0_z  gaze_1_x  gaze_1_y  \\\n",
      "0       1       0.975  0.045100  0.261753 -0.964081 -0.059101  0.220275   \n",
      "1       1       0.925  0.058224  0.235082 -0.970230 -0.056113  0.216628   \n",
      "2       1       0.975  0.074234  0.026665 -0.996884 -0.046497  0.029027   \n",
      "3       1       0.025  0.256086 -0.216004 -0.942212  0.120141 -0.217794   \n",
      "4       1       0.975  0.193449  0.209023 -0.958586  0.032758  0.185837   \n",
      "..    ...         ...       ...       ...       ...       ...       ...   \n",
      "121     0       0.875 -0.263258 -0.049040 -0.963478 -0.421201  0.028245   \n",
      "122     0       0.775  0.509802 -0.322897 -0.797395  0.363785 -0.345633   \n",
      "123     0       0.975  0.183691  0.158997 -0.970040  0.015769  0.152994   \n",
      "124     0       0.975 -0.010093  0.216590 -0.976210 -0.023248  0.208353   \n",
      "125     0       0.975  0.145005  0.166456 -0.975329 -0.087870  0.193869   \n",
      "\n",
      "     gaze_1_z  gaze_angle_x  gaze_angle_y  ...  AU12_c  AU14_c  AU15_c  \\\n",
      "0   -0.973646        -0.007         0.244  ...     0.0     1.0     1.0   \n",
      "1   -0.974640         0.001         0.228  ...     0.0     0.0     1.0   \n",
      "2   -0.998497         0.014         0.028  ...     0.0     0.0     1.0   \n",
      "3   -0.968572         0.194        -0.223  ...     0.0     0.0     0.0   \n",
      "4   -0.982034         0.116         0.201  ...     0.0     0.0     1.0   \n",
      "..        ...           ...           ...  ...     ...     ...     ...   \n",
      "121 -0.906528        -0.351        -0.011  ...     0.0     0.0     1.0   \n",
      "122 -0.864985         0.484        -0.382  ...     0.0     0.0     1.0   \n",
      "123 -0.988101         0.102         0.158  ...     1.0     1.0     1.0   \n",
      "124 -0.977777        -0.017         0.214  ...     0.0     0.0     1.0   \n",
      "125 -0.977084         0.029         0.183  ...     1.0     1.0     0.0   \n",
      "\n",
      "     AU17_c  AU20_c  AU23_c  AU25_c  AU26_c  AU28_c  AU45_c  \n",
      "0       1.0     0.0     1.0     0.0     0.0     1.0     0.0  \n",
      "1       1.0     0.0     0.0     0.0     0.0     0.0     0.0  \n",
      "2       1.0     1.0     0.0     0.0     0.0     0.0     0.0  \n",
      "3       1.0     0.0     0.0     1.0     0.0     1.0     0.0  \n",
      "4       1.0     0.0     0.0     0.0     0.0     1.0     0.0  \n",
      "..      ...     ...     ...     ...     ...     ...     ...  \n",
      "121     0.0     1.0     1.0     1.0     0.0     1.0     1.0  \n",
      "122     1.0     1.0     0.0     0.0     0.0     1.0     0.0  \n",
      "123     0.0     0.0     0.0     1.0     1.0     0.0     0.0  \n",
      "124     1.0     1.0     0.0     0.0     0.0     1.0     0.0  \n",
      "125     0.0     0.0     0.0     1.0     0.0     0.0     0.0  \n",
      "\n",
      "[126 rows x 711 columns]\n"
     ]
    }
   ],
   "source": [
    "df = pd.read_csv('combined.csv')\n",
    "df=df.drop(['face'],1)\n",
    "df=df.drop(['Unnamed: 1'],1)\n",
    "print(df)\n",
    "  \n",
    "df = normalize(df)\n",
    "#df=df.drop('Unnamed: 1',axis=1,inplace=True)\n",
    "\n",
    "x = np.array(df.drop(['Sad?'],1))\n",
    "y = np.array(df['Sad?'])\n",
    "x_train,x_test,y_train,y_test = model_selection.train_test_split(x,y,test_size=0.2)\n",
    "\n",
    "data_inputs = x_train\n",
    "data_outputs = y_train"
   ]
  },
  {
   "cell_type": "code",
   "execution_count": 40,
   "metadata": {
    "id": "XcpspPth8ckr"
   },
   "outputs": [],
   "source": [
    "def GA(sol_per_pop,num_parents_mating,num_generations,mutation_percent,HL1_neurons,HL2_neurons,output_neurons,activation):\n",
    "  print(\"Population size : \" + str(sol_per_pop))\n",
    "  print(\"Mating Pool Size (Number of Parents) :\" + str(num_parents_mating))\n",
    "  print(\"Number of generations : \" + str(num_generations))\n",
    "  print(\"Mutation Percent : \" + str(mutation_percent))\n",
    "  print(\"Activation : \" + str(activation) + \"\\n\")\n",
    "\n",
    "  initial_pop_weights = []\n",
    "  data_inputs = x_train\n",
    "  data_outputs = y_train\n",
    "  for curr_sol in numpy.arange(0, sol_per_pop):\n",
    "\n",
    "      input_HL1_weights = numpy.random.uniform(low=-0.1, high=0.1, size=(data_inputs.shape[1], HL1_neurons))\n",
    "      HL1_HL2_weights = numpy.random.uniform(low=-0.1, high=0.1, size=(HL1_neurons, HL2_neurons))\n",
    "      HL2_output_weights = numpy.random.uniform(low=-0.1, high=0.1, size=(HL2_neurons, output_neurons))\n",
    "      initial_pop_weights.append(numpy.array([input_HL1_weights, HL1_HL2_weights, HL2_output_weights]))\n",
    "\n",
    "  pop_weights_mat = numpy.array(initial_pop_weights)\n",
    "  pop_weights_vector = mat_to_vector(pop_weights_mat)\n",
    "  best_outputs = []\n",
    "  accuracies = numpy.empty(shape=(num_generations))\n",
    "  for generation in range(num_generations):\n",
    "\n",
    "    if(generation %100 == 0):\n",
    "      print(\"Generation : \", generation)\n",
    "    # converting the solutions from being vectors to matrices.\n",
    "    pop_weights_mat = vector_to_mat(pop_weights_vector, pop_weights_mat)\n",
    "\n",
    "    # Measuring the fitness of each chromosome in the population.\n",
    "    \n",
    "    fit = fitness(pop_weights_mat, data_inputs, data_outputs, activation=activation)\n",
    "    accuracies[generation] = fit[0]\n",
    "\n",
    "    # print(\"Fitness\")\n",
    "    # print(fit)\n",
    "\n",
    "    # Selecting the best parents in the population for mating.\n",
    "    parents = select_mating_pool(pop_weights_vector, fit.copy(), num_parents_mating)\n",
    "\n",
    "    # print(\"Parents\")\n",
    "    # print(parents)\n",
    "\n",
    "    # Generating next generation using crossover.\n",
    "    offspring_crossover = crossover(parents, offspring_size=(pop_weights_vector.shape[0]-parents.shape[0], pop_weights_vector.shape[1]))\n",
    "\n",
    "    # print(\"Crossover\")\n",
    "    # print(offspring_crossover)\n",
    "\n",
    "    # Adding some variations to the offsrping using mutation.\n",
    "    offspring_mutation = mutation(offspring_crossover, mutation_percent=mutation_percent)\n",
    "\n",
    "    # print(\"Mutation\")\n",
    "    # print(offspring_mutation)\n",
    "\n",
    "    # Creating the new population based on the parents and offspring.\n",
    "    pop_weights_vector[0:parents.shape[0], :] = parents\n",
    "    pop_weights_vector[parents.shape[0]:, :] = offspring_mutation\n",
    "  pop_weights_mat = vector_to_mat(pop_weights_vector, pop_weights_mat)\n",
    "  best_weights = pop_weights_mat [0, :]\n",
    "  acc, predictions = predict_outputs(best_weights, data_inputs, data_outputs, activation=activation)\n",
    "  print(\"\\n\")\n",
    "  print(\"Accuracy of the best solution is : \", acc)\n",
    "  plt.plot(accuracies)\n",
    "  plt.xlabel(\"No of Generations\")\n",
    "  plt.ylabel(\"$Fitness(\\Theta)$\")\n",
    "  plt.title(\"Plot of Fitness Function v/s Generations\")\n",
    "  plt.show()\n",
    "  data_inputs=x_test\n",
    "  data_outputs=y_test\n",
    "  acc, predictions = predict_outputs(best_weights, data_inputs, data_outputs, activation=activation)\n",
    "  print(\"Testing Accuracy of the best solution is : \", acc)"
   ]
  },
  {
   "cell_type": "code",
   "execution_count": 46,
   "metadata": {
    "id": "jeRZFC2w5_hD"
   },
   "outputs": [
    {
     "name": "stdout",
     "output_type": "stream",
     "text": [
      "Population size : 8\n",
      "Mating Pool Size (Number of Parents) :2\n",
      "Number of generations : 10000\n",
      "Mutation Percent : 10\n",
      "Activation : tanh\n",
      "\n",
      "Generation :  0\n",
      "Generation :  100\n",
      "Generation :  200\n",
      "Generation :  300\n",
      "Generation :  400\n",
      "Generation :  500\n",
      "Generation :  600\n",
      "Generation :  700\n",
      "Generation :  800\n",
      "Generation :  900\n",
      "Generation :  1000\n",
      "Generation :  1100\n",
      "Generation :  1200\n",
      "Generation :  1300\n",
      "Generation :  1400\n",
      "Generation :  1500\n",
      "Generation :  1600\n",
      "Generation :  1700\n",
      "Generation :  1800\n",
      "Generation :  1900\n",
      "Generation :  2000\n",
      "Generation :  2100\n",
      "Generation :  2200\n",
      "Generation :  2300\n",
      "Generation :  2400\n",
      "Generation :  2500\n",
      "Generation :  2600\n",
      "Generation :  2700\n",
      "Generation :  2800\n",
      "Generation :  2900\n",
      "Generation :  3000\n",
      "Generation :  3100\n",
      "Generation :  3200\n",
      "Generation :  3300\n",
      "Generation :  3400\n",
      "Generation :  3500\n",
      "Generation :  3600\n",
      "Generation :  3700\n",
      "Generation :  3800\n",
      "Generation :  3900\n",
      "Generation :  4000\n",
      "Generation :  4100\n",
      "Generation :  4200\n",
      "Generation :  4300\n",
      "Generation :  4400\n",
      "Generation :  4500\n",
      "Generation :  4600\n",
      "Generation :  4700\n",
      "Generation :  4800\n",
      "Generation :  4900\n",
      "Generation :  5000\n",
      "Generation :  5100\n",
      "Generation :  5200\n",
      "Generation :  5300\n",
      "Generation :  5400\n",
      "Generation :  5500\n",
      "Generation :  5600\n",
      "Generation :  5700\n",
      "Generation :  5800\n",
      "Generation :  5900\n",
      "Generation :  6000\n",
      "Generation :  6100\n",
      "Generation :  6200\n",
      "Generation :  6300\n",
      "Generation :  6400\n",
      "Generation :  6500\n",
      "Generation :  6600\n",
      "Generation :  6700\n",
      "Generation :  6800\n",
      "Generation :  6900\n",
      "Generation :  7000\n",
      "Generation :  7100\n",
      "Generation :  7200\n",
      "Generation :  7300\n",
      "Generation :  7400\n",
      "Generation :  7500\n",
      "Generation :  7600\n",
      "Generation :  7700\n",
      "Generation :  7800\n",
      "Generation :  7900\n",
      "Generation :  8000\n",
      "Generation :  8100\n",
      "Generation :  8200\n",
      "Generation :  8300\n",
      "Generation :  8400\n",
      "Generation :  8500\n",
      "Generation :  8600\n",
      "Generation :  8700\n",
      "Generation :  8800\n",
      "Generation :  8900\n",
      "Generation :  9000\n",
      "Generation :  9100\n",
      "Generation :  9200\n",
      "Generation :  9300\n",
      "Generation :  9400\n",
      "Generation :  9500\n",
      "Generation :  9600\n",
      "Generation :  9700\n",
      "Generation :  9800\n",
      "Generation :  9900\n",
      "\n",
      "\n",
      "Accuracy of the best solution is :  94.0\n"
     ]
    },
    {
     "data": {
      "image/png": "[encoded data removed]",
      "text/plain": [
       "<Figure size 576x396 with 1 Axes>"
      ]
     },
     "metadata": {},
     "output_type": "display_data"
    },
    {
     "name": "stdout",
     "output_type": "stream",
     "text": [
      "Testing Accuracy of the best solution is :  61.53846153846154\n"
     ]
    }
   ],
   "source": [
    "GA(sol_per_pop = 8,num_parents_mating = 2,num_generations = 10000,mutation_percent = 10,HL1_neurons = 150,HL2_neurons = 60,output_neurons = 2,activation = \"tanh\")"
   ]
  },
  {
   "cell_type": "code",
   "execution_count": 33,
   "metadata": {
    "id": "TMymmpPhylWn"
   },
   "outputs": [],
   "source": [
    "def garson(A, B, C):\n",
    "    \"\"\"\n",
    "    Computes Garson's algorithm\n",
    "    A = matrix of weights of input-hidden layer (rows=input & cols=hidden)\n",
    "    B = vector of weights of hidden-output layer\n",
    "    \"\"\"\n",
    "\n",
    "    # connection weight through the different hidden node\n",
    "    cw = np.dot(A, B)\n",
    "    cw = np.dot(cw, C)\n",
    "\n",
    "    # weight through node (axis=0 is column; sum per input feature)\n",
    "    cw_h = abs(cw).sum(axis=0)\n",
    "\n",
    "    # relative contribution of input neuron to outgoing signal of each hidden neuron\n",
    "    # sum to find relative contribution of input neuron\n",
    "    rc = np.divide(abs(cw), abs(cw_h))\n",
    "    rc = rc.sum(axis=1)\n",
    "\n",
    "    # normalize to 100% for relative importance\n",
    "    ri = rc / rc.sum()\n",
    "    return(ri)"
   ]
  },
  {
   "cell_type": "code",
   "execution_count": 34,
   "metadata": {
    "id": "3WRoL9vRyt73"
   },
   "outputs": [
    {
     "ename": "NameError",
     "evalue": "name 'best_weights' is not defined",
     "output_type": "error",
     "traceback": [
      "\u001b[1;31m---------------------------------------------------------------------------\u001b[0m",
      "\u001b[1;31mNameError\u001b[0m                                 Traceback (most recent call last)",
      "\u001b[1;32m<ipython-input-34-923fb08b9763>\u001b[0m in \u001b[0;36m<module>\u001b[1;34m\u001b[0m\n\u001b[1;32m----> 1\u001b[1;33m \u001b[0mg1\u001b[0m\u001b[1;33m=\u001b[0m\u001b[0mgarson\u001b[0m\u001b[1;33m(\u001b[0m\u001b[0mbest_weights\u001b[0m\u001b[1;33m[\u001b[0m\u001b[1;36m0\u001b[0m\u001b[1;33m]\u001b[0m\u001b[1;33m,\u001b[0m\u001b[0mbest_weights\u001b[0m\u001b[1;33m[\u001b[0m\u001b[1;36m1\u001b[0m\u001b[1;33m]\u001b[0m\u001b[1;33m,\u001b[0m\u001b[0mbest_weights\u001b[0m\u001b[1;33m[\u001b[0m\u001b[1;36m2\u001b[0m\u001b[1;33m]\u001b[0m\u001b[1;33m)\u001b[0m\u001b[1;33m\u001b[0m\u001b[1;33m\u001b[0m\u001b[0m\n\u001b[0m\u001b[0;32m      2\u001b[0m \u001b[0mfeatures\u001b[0m\u001b[1;33m=\u001b[0m\u001b[0mdf\u001b[0m\u001b[1;33m.\u001b[0m\u001b[0mcolumns\u001b[0m\u001b[1;33m\u001b[0m\u001b[1;33m\u001b[0m\u001b[0m\n\u001b[0;32m      3\u001b[0m \u001b[0mDict\u001b[0m \u001b[1;33m=\u001b[0m \u001b[1;33m{\u001b[0m\u001b[1;33m}\u001b[0m\u001b[1;33m\u001b[0m\u001b[1;33m\u001b[0m\u001b[0m\n\u001b[0;32m      4\u001b[0m \u001b[1;32mfor\u001b[0m \u001b[0mi\u001b[0m \u001b[1;32min\u001b[0m \u001b[0mrange\u001b[0m\u001b[1;33m(\u001b[0m\u001b[1;36m1\u001b[0m\u001b[1;33m,\u001b[0m\u001b[1;36m711\u001b[0m\u001b[1;33m)\u001b[0m\u001b[1;33m:\u001b[0m\u001b[1;33m\u001b[0m\u001b[1;33m\u001b[0m\u001b[0m\n\u001b[0;32m      5\u001b[0m   \u001b[0mDict\u001b[0m\u001b[1;33m[\u001b[0m\u001b[0mfeatures\u001b[0m\u001b[1;33m[\u001b[0m\u001b[0mi\u001b[0m\u001b[1;33m]\u001b[0m\u001b[1;33m]\u001b[0m\u001b[1;33m=\u001b[0m\u001b[0mg1\u001b[0m\u001b[1;33m[\u001b[0m\u001b[0mi\u001b[0m\u001b[1;33m-\u001b[0m\u001b[1;36m1\u001b[0m\u001b[1;33m]\u001b[0m\u001b[1;33m\u001b[0m\u001b[1;33m\u001b[0m\u001b[0m\n",
      "\u001b[1;31mNameError\u001b[0m: name 'best_weights' is not defined"
     ]
    }
   ],
   "source": [
    "g1=garson(best_weights[0],best_weights[1],best_weights[2])\n",
    "features=df.columns\n",
    "Dict = {}\n",
    "for i in range(1,711):\n",
    "  Dict[features[i]]=g1[i-1]"
   ]
  },
  {
   "cell_type": "code",
   "execution_count": null,
   "metadata": {
    "id": "XHBTHzDI5NtM"
   },
   "outputs": [],
   "source": [
    "import operator\n",
    "sorted_x = sorted(Dict.items(), key=operator.itemgetter(1),reverse=True)\n",
    "print(\"Printing features ranked from most important to least important\")\n",
    "x=0\n",
    "for i in sorted_x:\n",
    "  print(x,\":\",i)\n",
    "  x=x+1"
   ]
  },
  {
   "cell_type": "code",
   "execution_count": null,
   "metadata": {
    "id": "l_padH1_6Db0"
   },
   "outputs": [],
   "source": []
  }
 ],
 "metadata": {
  "colab": {
   "collapsed_sections": [],
   "name": "Genetic_Algorithm_Openface.ipynb",
   "provenance": []
  },
  "kernelspec": {
   "display_name": "Python 3",
   "language": "python",
   "name": "python3"
  },
  "language_info": {
   "codemirror_mode": {
    "name": "ipython",
    "version": 3
   },
   "file_extension": ".py",
   "mimetype": "text/x-python",
   "name": "python",
   "nbconvert_exporter": "python",
   "pygments_lexer": "ipython3",
   "version": "3.7.4"
  }
 },
 "nbformat": 4,
 "nbformat_minor": 1
}
