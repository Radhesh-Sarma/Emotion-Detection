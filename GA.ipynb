{
  "nbformat": 4,
  "nbformat_minor": 0,
  "metadata": {
    "colab": {
      "name": "GA_new_2.ipynb",
      "provenance": [],
      "collapsed_sections": [],
      "include_colab_link": true
    },
    "kernelspec": {
      "display_name": "Python 3",
      "language": "python",
      "name": "python3"
    },
    "language_info": {
      "codemirror_mode": {
        "name": "ipython",
        "version": 3
      },
      "file_extension": ".py",
      "mimetype": "text/x-python",
      "name": "python",
      "nbconvert_exporter": "python",
      "pygments_lexer": "ipython3",
      "version": "3.7.9"
    }
  },
  "cells": [
    {
      "cell_type": "markdown",
      "metadata": {
        "id": "view-in-github",
        "colab_type": "text"
      },
      "source": [
        "<a href=\"https://colab.research.google.com/github/Radhesh-Sarma/Emotion-Detection/blob/main/GA.ipynb\" target=\"_parent\"><img src=\"https://colab.research.google.com/assets/colab-badge.svg\" alt=\"Open In Colab\"/></a>"
      ]
    },
    {
      "cell_type": "markdown",
      "metadata": {
        "id": "7givvnDdcs_n"
      },
      "source": [
        "# Genetic Algorithm for feature selection"
      ]
    },
    {
      "cell_type": "code",
      "metadata": {
        "id": "MzHNio76WOKy"
      },
      "source": [
        "import numpy\n",
        "import sklearn.svm\n",
        "from sklearn.linear_model import LogisticRegression\n",
        "import numpy\n",
        "import matplotlib.pyplot as plt\n",
        "import random\n",
        "import numpy as np\n",
        "import pandas as pd\n",
        "from sklearn import model_selection\n",
        "import warnings\n",
        "warnings.filterwarnings(\"ignore\")\n",
        "import seaborn as sns\n",
        "plt.style.use('seaborn')"
      ],
      "execution_count": 24,
      "outputs": []
    },
    {
      "cell_type": "code",
      "metadata": {
        "id": "CjH7hHfWZh-K"
      },
      "source": [
        "def reduce_features(solution, features):\n",
        "    selected_elements_indices = numpy.where(solution == 1)[0]\n",
        "    reduced_features = features[:, selected_elements_indices]\n",
        "    return reduced_features\n",
        "\n",
        "def classification_accuracy(labels, predictions):\n",
        "    correct = numpy.where(labels == predictions)[0]\n",
        "    accuracy = correct.shape[0]/labels.shape[0]\n",
        "    return accuracy*100"
      ],
      "execution_count": 25,
      "outputs": []
    },
    {
      "cell_type": "markdown",
      "metadata": {
        "id": "A4lvubtWpxUZ"
      },
      "source": [
        "## Classifier Models"
      ]
    },
    {
      "cell_type": "code",
      "metadata": {
        "id": "38z-PDzqZdyg"
      },
      "source": [
        "def cal_pop_fitness(pop, features, labels, train_indices, test_indices):\n",
        "    accuracies = numpy.zeros(pop.shape[0])\n",
        "    idx = 0\n",
        "\n",
        "    for curr_solution in pop:\n",
        "        reduced_features = reduce_features(curr_solution, features)\n",
        "        train_data = reduced_features[train_indices, :]\n",
        "        test_data = reduced_features[test_indices, :]\n",
        "\n",
        "        train_labels = labels[train_indices]\n",
        "        test_labels = labels[test_indices]\n",
        "\n",
        "        #SVM CLASSIFIER\n",
        "        SV_classifier = sklearn.svm.SVC(gamma='scale')\n",
        "        SV_classifier.fit(X=train_data, y=train_labels)\n",
        "        predictions = SV_classifier.predict(test_data)\n",
        "        \n",
        "        #LOGISTIC REGRESSION CLASSIFIER\n",
        "        '''\n",
        "        clf = LogisticRegression()\n",
        "        clf.fit(X=train_data, y=train_labels)\n",
        "        predictions = clf.predict(test_data)\n",
        "        '''\n",
        "\n",
        "        accuracies[idx] = classification_accuracy(test_labels, predictions)\n",
        "        idx = idx + 1\n",
        "    return accuracies"
      ],
      "execution_count": 26,
      "outputs": []
    },
    {
      "cell_type": "markdown",
      "metadata": {
        "id": "SAmte2mqpnry"
      },
      "source": [
        "## Parent Selection"
      ]
    },
    {
      "cell_type": "code",
      "metadata": {
        "id": "iR94WPVSZmcw"
      },
      "source": [
        "#rank selection\n",
        "def rank_selection_mating_pool(pop, fitness, num_parents):\n",
        "    # Selecting the best individuals in the current generation as parents for producing the offspring of the next generation.\n",
        "    parents = numpy.empty((num_parents, pop.shape[1]))\n",
        "    for parent_num in range(num_parents):\n",
        "        max_fitness_idx = numpy.where(fitness == numpy.max(fitness))\n",
        "        max_fitness_idx = max_fitness_idx[0][0]\n",
        "        parents[parent_num, :] = pop[max_fitness_idx, :]\n",
        "        fitness[max_fitness_idx] = -99999999999\n",
        "    return parents\n",
        "\n",
        "#tournament selection\n",
        "def tournament_selection_mating_pool(pop, fitness, num_parents):\n",
        "    # Selecting the best individuals in the current generation as parents for producing the offspring of the next generation.\n",
        "    parents = numpy.empty((num_parents, pop.shape[1]))\n",
        "    k=numpy.uint8(pop.shape[0]/2)\n",
        "    for parent_num in range(num_parents):\n",
        "      tournament = [random.randint(0,len(fitness)-1) for i in range(k)]\n",
        "      fitnesses = [fitness[tournament[i]] for i in range(k)]\n",
        "      parents[parent_num, :]=pop[tournament[fitnesses.index(max(fitnesses))]]\n",
        "    return parents\n",
        "  \n",
        "#roulette wheel selection\n",
        "def roulette_wheel_selection(pop, fitness, num_parents):\n",
        "    # Selecting the best individuals in the current generation as parents for producing the offspring of the next generation.\n",
        "    parents = numpy.empty((num_parents, pop.shape[1]))\n",
        "    for parent_num in range(num_parents):\n",
        "      randomList = random.choices(pop, weights=fitness, k=1) \n",
        "      parents[parent_num, :]=randomList[0]\n",
        "    return parents"
      ],
      "execution_count": 27,
      "outputs": []
    },
    {
      "cell_type": "markdown",
      "metadata": {
        "id": "4p8N-xqJpkoM"
      },
      "source": [
        "## Crossover"
      ]
    },
    {
      "cell_type": "code",
      "metadata": {
        "id": "s4B1QonEV-WM"
      },
      "source": [
        "#uniform point crossover\n",
        "def crossover(parents, offspring_size):\n",
        "    offspring = numpy.empty(offspring_size)\n",
        "\n",
        "    for k in range(offspring_size[0]):\n",
        "        # Index of the first parent to mate.\n",
        "        parent1_idx = k%parents.shape[0]\n",
        "        # Index of the second parent to mate.\n",
        "        parent2_idx = (k+1)%parents.shape[0]\n",
        "        #probability matrix\n",
        "        p=np.random.rand(offspring_size[1])\n",
        "\n",
        "        for i in range(offspring_size[1]):\n",
        "        # The new offspring will have its ith genes taken from the first parent if probability<0.5 and from the second parent if the probablility>=0.5.\n",
        "          if p[i]<0.5:\n",
        "            offspring[k,i:i+1] = parents[parent1_idx, i:i+1]\n",
        "          else:\n",
        "            offspring[k,i:i+1] = parents[parent2_idx, i:i+1]\n",
        "    return offspring\n",
        "\n",
        "#single point crossover\n",
        "def single_crossover(parents, offspring_size):\n",
        "    offspring = numpy.empty(offspring_size)\n",
        "    # The point at which crossover takes place between two parents\n",
        "    crossover_point = numpy.random.randint(low=0, high=offspring_size[1])\n",
        "\n",
        "    for k in range(offspring_size[0]):\n",
        "        # Index of the first parent to mate.\n",
        "        parent1_idx = k%parents.shape[0]\n",
        "        # Index of the second parent to mate.\n",
        "        parent2_idx = (k+1)%parents.shape[0]\n",
        "        # The new offspring will have its first half of its genes taken from the first parent.\n",
        "        offspring[k, 0:crossover_point] = parents[parent1_idx, 0:crossover_point]\n",
        "        # The new offspring will have its second half of its genes taken from the second parent.\n",
        "        offspring[k, crossover_point:] = parents[parent2_idx, crossover_point:]\n",
        "    return offspring\n",
        "\n",
        "#two point crossover\n",
        "def two_point_crossover(parents, offspring_size):\n",
        "    offspring = numpy.empty(offspring_size)\n",
        "    # The points at which crossover takes place between two parents\n",
        "    crossover_point_1 = numpy.random.randint(low=0, high=offspring_size[1])\n",
        "    crossover_point_2 = numpy.random.randint(low=crossover_point_1+1, high=offspring_size[1])\n",
        "\n",
        "    for k in range(offspring_size[0]):\n",
        "        # Index of the first parent to mate.\n",
        "        parent1_idx = k%parents.shape[0]\n",
        "        # Index of the second parent to mate.\n",
        "        parent2_idx = (k+1)%parents.shape[0]\n",
        "        # The new offspring will have its first half of its genes taken from the second parent.\n",
        "        offspring[k, 0:crossover_point_1] = parents[parent2_idx, 0:crossover_point_1]\n",
        "        # The new offspring will have its second half of its genes taken from the first parent.\n",
        "        offspring[k, crossover_point_1:crossover_point_2] = parents[parent1_idx, crossover_point_1:crossover_point_2]\n",
        "        # The new offspring will have its third half of its genes taken from the second parent.\n",
        "        offspring[k, crossover_point_2:] = parents[parent2_idx, crossover_point_2:]\n",
        "    return offspring"
      ],
      "execution_count": 28,
      "outputs": []
    },
    {
      "cell_type": "markdown",
      "metadata": {
        "id": "0CS4uqFqqDEF"
      },
      "source": [
        "## Mutation"
      ]
    },
    {
      "cell_type": "code",
      "metadata": {
        "id": "fsCLRFTOZqCU"
      },
      "source": [
        "#bit flip mutation\n",
        "def bit_flip_mutation(offspring_crossover, num_mutations):\n",
        "    mutation_idx = numpy.random.randint(low=0, high=offspring_crossover.shape[1], size=num_mutations)\n",
        "    # Mutation changes a single gene in each offspring randomly.\n",
        "    for idx in range(offspring_crossover.shape[0]):\n",
        "        # The random value to be added to the gene.\n",
        "        offspring_crossover[idx, mutation_idx] = 1 - offspring_crossover[idx, mutation_idx]\n",
        "    return offspring_crossover\n",
        "\n",
        "#swap mutation\n",
        "def swap_mutation(offspring_crossover, num_mutations):\n",
        "    mutation_idx_1 = numpy.random.randint(low=0, high=offspring_crossover.shape[1], size=num_mutations)\n",
        "    mutation_idx_2 = numpy.random.randint(low=0, high=offspring_crossover.shape[1], size=num_mutations)\n",
        "    # Mutation changes a single gene in each offspring randomly.\n",
        "    for idx in range(offspring_crossover.shape[0]):\n",
        "        # The random value to be added to the gene.\n",
        "        temp=offspring_crossover[idx, mutation_idx_1]\n",
        "        offspring_crossover[idx, mutation_idx_1] = offspring_crossover[idx, mutation_idx_2]\n",
        "        offspring_crossover[idx, mutation_idx_2] = temp\n",
        "    return offspring_crossover\n",
        "\n",
        "#inverse mutation\n",
        "def mutation(offspring_crossover, num_mutations):\n",
        "    # Mutation changes a single gene in each offspring randomly.\n",
        "    for idx in range(offspring_crossover.shape[0]):\n",
        "      val=numpy.random.randint(low=0, high=offspring_crossover.shape[1]-num_mutations-1)\n",
        "      temp=offspring_crossover[idx]\n",
        "      np.flip(temp)\n",
        "      for j in range(val,val+num_mutations):\n",
        "        offspring_crossover[idx,j:j+1]=temp[j]\n",
        "    return offspring_crossover"
      ],
      "execution_count": 29,
      "outputs": []
    },
    {
      "cell_type": "code",
      "metadata": {
        "id": "QSX-enuOWJSs"
      },
      "source": [
        "def normalize(dataset):\n",
        "    dataNorm=((dataset-dataset.mean())/(dataset.std()))\n",
        "    dataNorm[\"Sad\"]=dataset[\"Sad\"]\n",
        "    return dataNorm"
      ],
      "execution_count": 30,
      "outputs": []
    },
    {
      "cell_type": "code",
      "metadata": {
        "id": "9VSg78pmWooo",
        "outputId": "ede142f7-b41f-4c08-c534-eb93a4a75155",
        "colab": {
          "base_uri": "https://localhost:8080/"
        }
      },
      "source": [
        "df = pd.read_csv('Final.csv')\n",
        "df=df.drop(['face'],1)\n",
        "df=df.drop(['Unnamed: 0'],1)\n",
        "df=df.drop(['Unnamed: 0.1'],1)\n",
        "df=df.drop(['Unnamed: 0.1.1'],1)\n",
        "df = df.sample(frac = 1) \n",
        "print(df)\n",
        "  \n",
        "df = normalize(df)\n",
        "\n",
        "x = np.array(df.drop(['Sad'],1))\n",
        "y = np.array(df['Sad'])\n",
        "\n",
        "data_inputs = x\n",
        "data_outputs = y"
      ],
      "execution_count": 32,
      "outputs": [
        {
          "output_type": "stream",
          "text": [
            "     Sad  confidence  gaze_0_x  gaze_0_y  ...  AU25_c  AU26_c  AU28_c  AU45_c\n",
            "66     0       0.925  0.101248  0.055299  ...     1.0     1.0     0.0     0.0\n",
            "75     0       0.875  0.082963  0.101641  ...     1.0     0.0     1.0     0.0\n",
            "40     0       0.975  0.049975  0.055162  ...     1.0     1.0     1.0     0.0\n",
            "126    1       0.975  0.024816  0.053022  ...     0.0     1.0     1.0     0.0\n",
            "32     0       0.975  0.020761  0.129036  ...     0.0     0.0     0.0     0.0\n",
            "..   ...         ...       ...       ...  ...     ...     ...     ...     ...\n",
            "76     0       0.875  0.092669  0.080902  ...     1.0     0.0     1.0     0.0\n",
            "37     0       0.975  0.085469  0.124319  ...     1.0     1.0     0.0     0.0\n",
            "184    1       0.975 -0.126963  0.424037  ...     0.0     0.0     1.0     1.0\n",
            "170    1       0.925  0.115244  0.083616  ...     0.0     0.0     1.0     0.0\n",
            "168    1       0.975  0.084677  0.003349  ...     0.0     0.0     0.0     0.0\n",
            "\n",
            "[205 rows x 711 columns]\n"
          ],
          "name": "stdout"
        }
      ]
    },
    {
      "cell_type": "code",
      "metadata": {
        "id": "pXC_ZlXqay12"
      },
      "source": [
        "num_samples = data_inputs.shape[0]\n",
        "num_feature_elements = data_inputs.shape[1]\n",
        "\n",
        "train_indices = numpy.arange(0,num_samples*0.7*(0.7), 1,int)\n",
        "val_indices = numpy.arange(num_samples*0.7*(0.7)+1,num_samples*0.7, 1,int)\n",
        "test_indices_1 = numpy.arange((num_samples*0.7)+1, num_samples*0.7+num_samples*0.3*0.7, 1,int)\n",
        "test_indices_2 = numpy.arange(num_samples*0.7+num_samples*0.7*0.3+1, num_samples, 1,int)"
      ],
      "execution_count": 33,
      "outputs": []
    },
    {
      "cell_type": "code",
      "metadata": {
        "id": "Y0E6BJfbal9D",
        "outputId": "7c0933df-0981-420a-9982-3230657d410a",
        "colab": {
          "base_uri": "https://localhost:8080/"
        }
      },
      "source": [
        "#Genetic algorithm parameters:\n",
        "sol_per_pop = 20 # Population size.\n",
        "num_parents_mating = 10 # Number of parents inside the mating pool.\n",
        "num_mutations = 70 # Number of elements to mutate.\n",
        "num_generations = 1000\n",
        "\n",
        "# Defining the population shape.\n",
        "pop_shape = (sol_per_pop, num_feature_elements)\n",
        "\n",
        "# Creating the initial population.\n",
        "new_population = numpy.random.randint(low=0, high=2, size=pop_shape)\n",
        "print(new_population.shape)\n",
        "best_population=new_population\n",
        "\n",
        "best_outputs = []"
      ],
      "execution_count": 34,
      "outputs": [
        {
          "output_type": "stream",
          "text": [
            "(20, 710)\n"
          ],
          "name": "stdout"
        }
      ]
    },
    {
      "cell_type": "code",
      "metadata": {
        "id": "fqoVw1B9WJx1",
        "outputId": "188050f6-cba1-495f-af12-324309b6cb8d",
        "colab": {
          "base_uri": "https://localhost:8080/"
        }
      },
      "source": [
        "for generation in range(num_generations):\n",
        "    if(generation%100 == 0):\n",
        "      print(\"Generation : \", generation)\n",
        "    # Measuring the fitness of each chromosome in the population.\n",
        "    fitness = cal_pop_fitness(new_population, data_inputs, data_outputs, train_indices, val_indices)\n",
        "    # print(\"Fitness\")\n",
        "    # print(fitness)\n",
        "    # print(numpy.max(fitness))\n",
        "    if generation>1 and numpy.max(fitness)>=best_outputs[-1]:\n",
        "      best_population=new_population\n",
        "\n",
        "    best_outputs.append(numpy.max(fitness))\n",
        "    # The best result in the current iteration.\n",
        "    # print(\"Best fitness so far : \", best_outputs[-1])\n",
        "\n",
        "    # Selecting the best parents in the population for mating.\n",
        "    parents = rank_selection_mating_pool(new_population, fitness, num_parents_mating)\n",
        "    # print(\"Parents\")\n",
        "    # print(parents)\n",
        "\n",
        "    # Generating next generation using crossover.\n",
        "    offspring_crossover = crossover(parents, offspring_size=(pop_shape[0]-parents.shape[0], num_feature_elements))\n",
        "    # print(\"Crossover\")\n",
        "    # print(offspring_crossover)\n",
        "\n",
        "    # Adding some variations to the offspring using mutation.\n",
        "    offspring_mutation = mutation(offspring_crossover, num_mutations=num_mutations)\n",
        "    # print(\"Mutation\")\n",
        "    # print(offspring_mutation)\n",
        "\n",
        "    # Creating the new population based on the parents and offspring.\n",
        "    new_population[0:parents.shape[0], :] = parents\n",
        "    new_population[parents.shape[0]:, :] = offspring_mutation"
      ],
      "execution_count": 36,
      "outputs": [
        {
          "output_type": "stream",
          "text": [
            "Generation :  0\n",
            "Generation :  100\n",
            "Generation :  200\n",
            "Generation :  300\n",
            "Generation :  400\n",
            "Generation :  500\n",
            "Generation :  600\n",
            "Generation :  700\n",
            "Generation :  800\n",
            "Generation :  900\n"
          ],
          "name": "stdout"
        }
      ]
    },
    {
      "cell_type": "code",
      "metadata": {
        "id": "1-jlqKDAaTT4",
        "outputId": "cfea4485-8063-4363-cb0b-d3abd2c43a4c",
        "colab": {
          "base_uri": "https://localhost:8080/"
        }
      },
      "source": [
        "# Getting the best solution after iterating finishing all generations.\n",
        "# At first, the fitness is calculated for each solution in the final generation.\n",
        "fitness = cal_pop_fitness(best_population, data_inputs, data_outputs, train_indices, val_indices)\n",
        "# Then return the index of that solution corresponding to the best fitness.\n",
        "best_match_idx = numpy.where(fitness == numpy.max(fitness))[0]\n",
        "best_match_idx = best_match_idx[0]\n",
        "\n",
        "best_solution = best_population[best_match_idx, :]\n",
        "best_solution_indices = numpy.where(best_solution == 1)[0]\n",
        "best_solution_num_elements = best_solution_indices.shape[0]\n",
        "best_solution_fitness = fitness[best_match_idx]\n",
        "\n",
        "print(\"best_solution : \", best_solution)\n",
        "print(\"Selected indices : \", best_solution_indices)\n",
        "print(\"Number of selected features : \", best_solution_num_elements)\n",
        "print(\"Best solution fitness(Training accuracy) : \", best_solution_fitness)"
      ],
      "execution_count": 37,
      "outputs": [
        {
          "output_type": "stream",
          "text": [
            "best_solution :  [0 0 0 0 0 1 0 1 0 1 1 1 0 1 1 1 1 1 0 1 0 0 0 0 0 0 1 1 1 1 1 0 1 1 1 1 0\n",
            " 0 0 0 1 1 0 0 0 0 0 0 0 1 1 1 1 0 1 0 0 1 0 0 1 1 1 0 0 0 0 1 1 1 0 0 0 0\n",
            " 0 1 1 0 1 1 1 1 1 1 1 0 1 1 1 0 1 1 0 1 0 0 1 1 0 0 0 0 1 1 1 0 0 1 1 1 1\n",
            " 1 0 0 1 1 1 0 0 0 1 1 0 0 0 0 1 0 1 0 0 0 1 0 0 1 1 1 0 1 1 1 0 0 0 0 1 0\n",
            " 0 0 1 0 0 1 1 0 1 1 0 1 0 0 0 0 0 1 0 1 1 1 1 1 0 0 1 1 1 0 0 0 1 1 1 1 1\n",
            " 0 0 1 1 1 0 1 1 0 1 1 0 1 0 0 1 1 1 0 1 1 0 0 1 0 1 1 0 0 1 0 0 1 0 0 1 0\n",
            " 1 0 1 0 1 1 0 0 1 1 0 1 1 0 1 0 0 0 1 0 0 1 0 0 0 1 0 0 0 0 0 0 0 0 0 0 1\n",
            " 0 0 0 0 1 0 0 0 1 0 1 1 1 0 0 1 0 1 1 0 0 1 1 1 0 1 0 0 1 1 1 0 1 0 1 1 0\n",
            " 0 0 1 0 1 1 0 0 1 0 1 0 0 0 1 1 1 0 0 0 0 0 1 1 0 0 0 0 1 0 0 0 0 0 0 0 0\n",
            " 1 0 0 0 0 1 1 0 0 1 1 1 0 1 1 0 0 1 1 1 0 1 1 1 1 1 0 1 1 0 1 0 1 1 1 0 1\n",
            " 0 0 0 1 0 0 0 0 1 0 0 1 1 1 0 1 1 0 1 0 0 0 0 1 1 1 1 1 1 1 0 1 1 0 0 1 0\n",
            " 1 1 0 1 0 1 1 0 0 0 1 1 0 0 0 0 0 0 1 1 0 0 1 1 1 1 0 1 0 1 1 0 0 0 0 1 0\n",
            " 1 1 1 1 0 0 1 1 0 1 1 1 1 0 0 1 0 1 0 1 0 0 1 1 0 0 0 1 1 0 0 0 0 1 1 1 1\n",
            " 0 1 0 0 0 1 1 1 0 1 0 0 1 0 1 1 1 0 0 0 1 0 1 0 1 0 1 0 1 0 1 0 0 0 1 1 1\n",
            " 1 1 1 1 1 1 0 0 1 0 1 0 1 0 0 1 0 1 1 0 1 1 1 1 0 1 1 0 0 1 1 0 0 1 0 0 0\n",
            " 0 0 0 0 1 1 1 0 1 1 1 0 1 0 1 1 1 0 1 0 1 0 0 1 0 1 0 0 1 1 1 1 0 0 0 1 0\n",
            " 0 0 0 1 1 0 1 0 1 1 1 1 0 0 1 1 0 0 1 1 0 1 0 0 1 1 0 0 1 0 1 1 0 0 0 1 1\n",
            " 0 0 0 1 0 0 1 1 1 0 0 0 1 1 0 1 1 0 1 1 0 1 0 1 0 0 1 0 0 1 1 0 0 1 1 1 1\n",
            " 1 0 0 0 0 1 1 0 0 0 0 0 1 1 0 1 0 1 1 1 0 1 1 1 1 0 1 0 0 1 1 0 0 1 0 0 1\n",
            " 1 1 1 1 1 0 1]\n",
            "Selected indices :  [  5   7   9  10  11  13  14  15  16  17  19  26  27  28  29  30  32  33\n",
            "  34  35  40  41  49  50  51  52  54  57  60  61  62  67  68  69  75  76\n",
            "  78  79  80  81  82  83  84  86  87  88  90  91  93  96  97 102 103 104\n",
            " 107 108 109 110 111 114 115 116 120 121 126 128 132 135 136 137 139 140\n",
            " 141 146 150 153 154 156 157 159 165 167 168 169 170 171 174 175 176 180\n",
            " 181 182 183 184 187 188 189 191 192 194 195 197 200 201 202 204 205 208\n",
            " 210 211 214 217 220 222 224 226 227 230 231 233 234 236 240 243 247 258\n",
            " 263 267 269 270 271 274 276 277 280 281 282 284 287 288 289 291 293 294\n",
            " 298 300 301 304 306 310 311 312 318 319 324 333 338 339 342 343 344 346\n",
            " 347 350 351 352 354 355 356 357 358 360 361 363 365 366 367 369 373 378\n",
            " 381 382 383 385 386 388 393 394 395 396 397 398 399 401 402 405 407 408\n",
            " 410 412 413 417 418 425 426 429 430 431 432 434 436 437 442 444 445 446\n",
            " 447 450 451 453 454 455 456 459 461 463 466 467 471 472 477 478 479 480\n",
            " 482 486 487 488 490 493 495 496 497 501 503 505 507 509 511 515 516 517\n",
            " 518 519 520 521 522 523 526 528 530 533 535 536 538 539 540 541 543 544\n",
            " 547 548 551 559 560 561 563 564 565 567 569 570 571 573 575 578 580 583\n",
            " 584 585 586 590 595 596 598 600 601 602 603 606 607 610 611 613 616 617\n",
            " 620 622 623 627 628 632 635 636 637 641 642 644 645 647 648 650 652 655\n",
            " 658 659 662 663 664 665 666 671 672 678 679 681 683 684 685 687 688 689\n",
            " 690 692 695 696 699 702 703 704 705 706 707 709]\n",
            "Number of selected features :  354\n",
            "Best solution fitness(Training accuracy) :  93.02325581395348\n"
          ],
          "name": "stdout"
        }
      ]
    },
    {
      "cell_type": "code",
      "metadata": {
        "id": "mXdvX2vVyAzy",
        "outputId": "deb837f4-0d29-4f72-83bb-746324ef87ba",
        "colab": {
          "base_uri": "https://localhost:8080/"
        }
      },
      "source": [
        "features=df.columns\n",
        "Dict = {}\n",
        "for i in range(0,best_solution_num_elements):\n",
        "  Dict[i]=features[best_solution_indices[i]]\n",
        "import operator\n",
        "sorted_x = sorted(Dict.items(), key=operator.itemgetter(1),reverse=True)\n",
        "print(\"Printing features in the best feature subset\")\n",
        "x=0\n",
        "for i in sorted_x:\n",
        "  print(x,\":\",i[1])\n",
        "  x=x+1"
      ],
      "execution_count": 38,
      "outputs": [
        {
          "output_type": "stream",
          "text": [
            "Printing features in the best feature subset\n",
            "0 : y_9\n",
            "1 : y_67\n",
            "2 : y_66\n",
            "3 : y_65\n",
            "4 : y_62\n",
            "5 : y_61\n",
            "6 : y_54\n",
            "7 : y_53\n",
            "8 : y_5\n",
            "9 : y_49\n",
            "10 : y_48\n",
            "11 : y_46\n",
            "12 : y_44\n",
            "13 : y_43\n",
            "14 : y_41\n",
            "15 : y_38\n",
            "16 : y_37\n",
            "17 : y_35\n",
            "18 : y_34\n",
            "19 : y_33\n",
            "20 : y_32\n",
            "21 : y_31\n",
            "22 : y_30\n",
            "23 : y_3\n",
            "24 : y_29\n",
            "25 : y_24\n",
            "26 : y_22\n",
            "27 : y_21\n",
            "28 : y_2\n",
            "29 : y_19\n",
            "30 : y_18\n",
            "31 : y_17\n",
            "32 : y_14\n",
            "33 : y_1\n",
            "34 : x_8\n",
            "35 : x_67\n",
            "36 : x_65\n",
            "37 : x_64\n",
            "38 : x_62\n",
            "39 : x_61\n",
            "40 : x_60\n",
            "41 : x_59\n",
            "42 : x_58\n",
            "43 : x_56\n",
            "44 : x_55\n",
            "45 : x_54\n",
            "46 : x_51\n",
            "47 : x_50\n",
            "48 : x_5\n",
            "49 : x_48\n",
            "50 : x_47\n",
            "51 : x_46\n",
            "52 : x_43\n",
            "53 : x_42\n",
            "54 : x_4\n",
            "55 : x_37\n",
            "56 : x_28\n",
            "57 : x_23\n",
            "58 : x_22\n",
            "59 : x_2\n",
            "60 : x_16\n",
            "61 : x_15\n",
            "62 : x_14\n",
            "63 : x_10\n",
            "64 : pose_Ty\n",
            "65 : pose_Ry\n",
            "66 : pose_Rx\n",
            "67 : p_ty\n",
            "68 : p_scale\n",
            "69 : p_rx\n",
            "70 : p_8\n",
            "71 : p_6\n",
            "72 : p_5\n",
            "73 : p_30\n",
            "74 : p_3\n",
            "75 : p_29\n",
            "76 : p_24\n",
            "77 : p_23\n",
            "78 : p_22\n",
            "79 : p_21\n",
            "80 : p_20\n",
            "81 : p_2\n",
            "82 : p_17\n",
            "83 : p_16\n",
            "84 : p_13\n",
            "85 : p_10\n",
            "86 : p_0\n",
            "87 : gaze_angle_y\n",
            "88 : gaze_1_z\n",
            "89 : gaze_1_x\n",
            "90 : eye_lmk_y_9\n",
            "91 : eye_lmk_y_55\n",
            "92 : eye_lmk_y_54\n",
            "93 : eye_lmk_y_50\n",
            "94 : eye_lmk_y_49\n",
            "95 : eye_lmk_y_48\n",
            "96 : eye_lmk_y_45\n",
            "97 : eye_lmk_y_44\n",
            "98 : eye_lmk_y_43\n",
            "99 : eye_lmk_y_42\n",
            "100 : eye_lmk_y_41\n",
            "101 : eye_lmk_y_38\n",
            "102 : eye_lmk_y_37\n",
            "103 : eye_lmk_y_36\n",
            "104 : eye_lmk_y_31\n",
            "105 : eye_lmk_y_30\n",
            "106 : eye_lmk_y_3\n",
            "107 : eye_lmk_y_27\n",
            "108 : eye_lmk_y_25\n",
            "109 : eye_lmk_y_24\n",
            "110 : eye_lmk_y_22\n",
            "111 : eye_lmk_y_21\n",
            "112 : eye_lmk_y_20\n",
            "113 : eye_lmk_y_2\n",
            "114 : eye_lmk_y_18\n",
            "115 : eye_lmk_y_17\n",
            "116 : eye_lmk_y_16\n",
            "117 : eye_lmk_y_15\n",
            "118 : eye_lmk_y_14\n",
            "119 : eye_lmk_y_13\n",
            "120 : eye_lmk_y_12\n",
            "121 : eye_lmk_y_10\n",
            "122 : eye_lmk_y_1\n",
            "123 : eye_lmk_x_9\n",
            "124 : eye_lmk_x_7\n",
            "125 : eye_lmk_x_6\n",
            "126 : eye_lmk_x_52\n",
            "127 : eye_lmk_x_51\n",
            "128 : eye_lmk_x_50\n",
            "129 : eye_lmk_x_5\n",
            "130 : eye_lmk_x_47\n",
            "131 : eye_lmk_x_44\n",
            "132 : eye_lmk_x_42\n",
            "133 : eye_lmk_x_41\n",
            "134 : eye_lmk_x_40\n",
            "135 : eye_lmk_x_4\n",
            "136 : eye_lmk_x_39\n",
            "137 : eye_lmk_x_31\n",
            "138 : eye_lmk_x_30\n",
            "139 : eye_lmk_x_3\n",
            "140 : eye_lmk_x_25\n",
            "141 : eye_lmk_x_24\n",
            "142 : eye_lmk_x_23\n",
            "143 : eye_lmk_x_22\n",
            "144 : eye_lmk_x_20\n",
            "145 : eye_lmk_x_19\n",
            "146 : eye_lmk_x_18\n",
            "147 : eye_lmk_x_17\n",
            "148 : eye_lmk_x_16\n",
            "149 : eye_lmk_x_1\n",
            "150 : eye_lmk_x_0\n",
            "151 : eye_lmk_Z_9\n",
            "152 : eye_lmk_Z_6\n",
            "153 : eye_lmk_Z_55\n",
            "154 : eye_lmk_Z_54\n",
            "155 : eye_lmk_Z_53\n",
            "156 : eye_lmk_Z_50\n",
            "157 : eye_lmk_Z_48\n",
            "158 : eye_lmk_Z_47\n",
            "159 : eye_lmk_Z_46\n",
            "160 : eye_lmk_Z_43\n",
            "161 : eye_lmk_Z_42\n",
            "162 : eye_lmk_Z_40\n",
            "163 : eye_lmk_Z_37\n",
            "164 : eye_lmk_Z_36\n",
            "165 : eye_lmk_Z_35\n",
            "166 : eye_lmk_Z_33\n",
            "167 : eye_lmk_Z_29\n",
            "168 : eye_lmk_Z_24\n",
            "169 : eye_lmk_Z_2\n",
            "170 : eye_lmk_Z_13\n",
            "171 : eye_lmk_Z_0\n",
            "172 : eye_lmk_Y_9\n",
            "173 : eye_lmk_Y_6\n",
            "174 : eye_lmk_Y_55\n",
            "175 : eye_lmk_Y_53\n",
            "176 : eye_lmk_Y_52\n",
            "177 : eye_lmk_Y_5\n",
            "178 : eye_lmk_Y_49\n",
            "179 : eye_lmk_Y_48\n",
            "180 : eye_lmk_Y_46\n",
            "181 : eye_lmk_Y_44\n",
            "182 : eye_lmk_Y_42\n",
            "183 : eye_lmk_Y_4\n",
            "184 : eye_lmk_Y_39\n",
            "185 : eye_lmk_Y_36\n",
            "186 : eye_lmk_Y_33\n",
            "187 : eye_lmk_Y_32\n",
            "188 : eye_lmk_Y_30\n",
            "189 : eye_lmk_Y_3\n",
            "190 : eye_lmk_Y_27\n",
            "191 : eye_lmk_Y_26\n",
            "192 : eye_lmk_Y_24\n",
            "193 : eye_lmk_Y_23\n",
            "194 : eye_lmk_Y_22\n",
            "195 : eye_lmk_Y_2\n",
            "196 : eye_lmk_Y_19\n",
            "197 : eye_lmk_Y_17\n",
            "198 : eye_lmk_Y_16\n",
            "199 : eye_lmk_Y_14\n",
            "200 : eye_lmk_Y_13\n",
            "201 : eye_lmk_Y_11\n",
            "202 : eye_lmk_Y_10\n",
            "203 : eye_lmk_X_6\n",
            "204 : eye_lmk_X_54\n",
            "205 : eye_lmk_X_53\n",
            "206 : eye_lmk_X_52\n",
            "207 : eye_lmk_X_49\n",
            "208 : eye_lmk_X_48\n",
            "209 : eye_lmk_X_47\n",
            "210 : eye_lmk_X_46\n",
            "211 : eye_lmk_X_45\n",
            "212 : eye_lmk_X_43\n",
            "213 : eye_lmk_X_4\n",
            "214 : eye_lmk_X_37\n",
            "215 : eye_lmk_X_35\n",
            "216 : eye_lmk_X_34\n",
            "217 : eye_lmk_X_32\n",
            "218 : eye_lmk_X_31\n",
            "219 : eye_lmk_X_28\n",
            "220 : eye_lmk_X_24\n",
            "221 : eye_lmk_X_19\n",
            "222 : eye_lmk_X_18\n",
            "223 : eye_lmk_X_17\n",
            "224 : eye_lmk_X_15\n",
            "225 : eye_lmk_X_14\n",
            "226 : eye_lmk_X_13\n",
            "227 : eye_lmk_X_10\n",
            "228 : Z_7\n",
            "229 : Z_67\n",
            "230 : Z_64\n",
            "231 : Z_60\n",
            "232 : Z_59\n",
            "233 : Z_55\n",
            "234 : Z_54\n",
            "235 : Z_52\n",
            "236 : Z_5\n",
            "237 : Z_49\n",
            "238 : Z_48\n",
            "239 : Z_45\n",
            "240 : Z_43\n",
            "241 : Z_42\n",
            "242 : Z_39\n",
            "243 : Z_38\n",
            "244 : Z_35\n",
            "245 : Z_34\n",
            "246 : Z_33\n",
            "247 : Z_32\n",
            "248 : Z_30\n",
            "249 : Z_3\n",
            "250 : Z_28\n",
            "251 : Z_27\n",
            "252 : Z_22\n",
            "253 : Z_2\n",
            "254 : Z_18\n",
            "255 : Z_17\n",
            "256 : Z_16\n",
            "257 : Z_15\n",
            "258 : Z_12\n",
            "259 : Z_10\n",
            "260 : Z_1\n",
            "261 : Y_9\n",
            "262 : Y_7\n",
            "263 : Y_67\n",
            "264 : Y_65\n",
            "265 : Y_64\n",
            "266 : Y_63\n",
            "267 : Y_61\n",
            "268 : Y_60\n",
            "269 : Y_59\n",
            "270 : Y_51\n",
            "271 : Y_5\n",
            "272 : Y_48\n",
            "273 : Y_47\n",
            "274 : Y_44\n",
            "275 : Y_43\n",
            "276 : Y_41\n",
            "277 : Y_40\n",
            "278 : Y_39\n",
            "279 : Y_38\n",
            "280 : Y_36\n",
            "281 : Y_35\n",
            "282 : Y_33\n",
            "283 : Y_30\n",
            "284 : Y_3\n",
            "285 : Y_28\n",
            "286 : Y_26\n",
            "287 : Y_23\n",
            "288 : Y_22\n",
            "289 : Y_21\n",
            "290 : Y_20\n",
            "291 : Y_19\n",
            "292 : Y_18\n",
            "293 : Y_17\n",
            "294 : Y_16\n",
            "295 : Y_15\n",
            "296 : Y_11\n",
            "297 : Y_1\n",
            "298 : X_65\n",
            "299 : X_64\n",
            "300 : X_63\n",
            "301 : X_61\n",
            "302 : X_58\n",
            "303 : X_56\n",
            "304 : X_55\n",
            "305 : X_54\n",
            "306 : X_50\n",
            "307 : X_5\n",
            "308 : X_48\n",
            "309 : X_47\n",
            "310 : X_46\n",
            "311 : X_45\n",
            "312 : X_40\n",
            "313 : X_4\n",
            "314 : X_39\n",
            "315 : X_35\n",
            "316 : X_34\n",
            "317 : X_31\n",
            "318 : X_29\n",
            "319 : X_27\n",
            "320 : X_24\n",
            "321 : X_23\n",
            "322 : X_22\n",
            "323 : X_21\n",
            "324 : X_2\n",
            "325 : X_19\n",
            "326 : X_18\n",
            "327 : X_15\n",
            "328 : X_14\n",
            "329 : X_13\n",
            "330 : X_12\n",
            "331 : X_10\n",
            "332 : X_0\n",
            "333 : AU45_r\n",
            "334 : AU28_c\n",
            "335 : AU25_r\n",
            "336 : AU25_c\n",
            "337 : AU23_r\n",
            "338 : AU23_c\n",
            "339 : AU20_r\n",
            "340 : AU20_c\n",
            "341 : AU17_r\n",
            "342 : AU17_c\n",
            "343 : AU15_c\n",
            "344 : AU14_r\n",
            "345 : AU14_c\n",
            "346 : AU12_r\n",
            "347 : AU10_r\n",
            "348 : AU09_c\n",
            "349 : AU07_r\n",
            "350 : AU05_r\n",
            "351 : AU05_c\n",
            "352 : AU04_r\n",
            "353 : AU04_c\n"
          ],
          "name": "stdout"
        }
      ]
    },
    {
      "cell_type": "code",
      "metadata": {
        "id": "nZ_sMNduLLsC",
        "outputId": "fc73143a-2f52-4902-a1c2-0f3081b5b539",
        "colab": {
          "base_uri": "https://localhost:8080/"
        }
      },
      "source": [
        "print(best_outputs)"
      ],
      "execution_count": 39,
      "outputs": [
        {
          "output_type": "stream",
          "text": [
            "[81.3953488372093, 81.3953488372093, 86.04651162790698, 88.37209302325581, 90.69767441860465, 90.69767441860465, 93.02325581395348, 93.02325581395348, 93.02325581395348, 93.02325581395348, 93.02325581395348, 93.02325581395348, 93.02325581395348, 93.02325581395348, 93.02325581395348, 93.02325581395348, 93.02325581395348, 93.02325581395348, 93.02325581395348, 93.02325581395348, 93.02325581395348, 93.02325581395348, 93.02325581395348, 93.02325581395348, 93.02325581395348, 93.02325581395348, 93.02325581395348, 93.02325581395348, 93.02325581395348, 93.02325581395348, 93.02325581395348, 93.02325581395348, 93.02325581395348, 93.02325581395348, 93.02325581395348, 93.02325581395348, 93.02325581395348, 93.02325581395348, 93.02325581395348, 93.02325581395348, 93.02325581395348, 93.02325581395348, 93.02325581395348, 93.02325581395348, 93.02325581395348, 93.02325581395348, 93.02325581395348, 93.02325581395348, 93.02325581395348, 93.02325581395348, 93.02325581395348, 93.02325581395348, 93.02325581395348, 93.02325581395348, 93.02325581395348, 93.02325581395348, 93.02325581395348, 93.02325581395348, 93.02325581395348, 93.02325581395348, 93.02325581395348, 93.02325581395348, 93.02325581395348, 93.02325581395348, 93.02325581395348, 93.02325581395348, 93.02325581395348, 93.02325581395348, 93.02325581395348, 93.02325581395348, 93.02325581395348, 93.02325581395348, 93.02325581395348, 93.02325581395348, 93.02325581395348, 93.02325581395348, 93.02325581395348, 93.02325581395348, 93.02325581395348, 93.02325581395348, 93.02325581395348, 93.02325581395348, 93.02325581395348, 93.02325581395348, 93.02325581395348, 93.02325581395348, 93.02325581395348, 93.02325581395348, 93.02325581395348, 93.02325581395348, 93.02325581395348, 93.02325581395348, 93.02325581395348, 93.02325581395348, 93.02325581395348, 93.02325581395348, 93.02325581395348, 93.02325581395348, 93.02325581395348, 93.02325581395348, 93.02325581395348, 93.02325581395348, 93.02325581395348, 93.02325581395348, 93.02325581395348, 93.02325581395348, 93.02325581395348, 93.02325581395348, 93.02325581395348, 93.02325581395348, 93.02325581395348, 93.02325581395348, 93.02325581395348, 93.02325581395348, 93.02325581395348, 93.02325581395348, 93.02325581395348, 93.02325581395348, 93.02325581395348, 93.02325581395348, 93.02325581395348, 93.02325581395348, 93.02325581395348, 93.02325581395348, 93.02325581395348, 93.02325581395348, 93.02325581395348, 93.02325581395348, 93.02325581395348, 93.02325581395348, 93.02325581395348, 93.02325581395348, 93.02325581395348, 93.02325581395348, 93.02325581395348, 93.02325581395348, 93.02325581395348, 93.02325581395348, 93.02325581395348, 93.02325581395348, 93.02325581395348, 93.02325581395348, 93.02325581395348, 93.02325581395348, 93.02325581395348, 93.02325581395348, 93.02325581395348, 93.02325581395348, 93.02325581395348, 93.02325581395348, 93.02325581395348, 93.02325581395348, 93.02325581395348, 93.02325581395348, 93.02325581395348, 93.02325581395348, 93.02325581395348, 93.02325581395348, 93.02325581395348, 93.02325581395348, 93.02325581395348, 93.02325581395348, 93.02325581395348, 93.02325581395348, 93.02325581395348, 93.02325581395348, 93.02325581395348, 93.02325581395348, 93.02325581395348, 93.02325581395348, 93.02325581395348, 93.02325581395348, 93.02325581395348, 93.02325581395348, 93.02325581395348, 93.02325581395348, 93.02325581395348, 93.02325581395348, 93.02325581395348, 93.02325581395348, 93.02325581395348, 93.02325581395348, 93.02325581395348, 93.02325581395348, 93.02325581395348, 93.02325581395348, 93.02325581395348, 93.02325581395348, 93.02325581395348, 93.02325581395348, 93.02325581395348, 93.02325581395348, 93.02325581395348, 93.02325581395348, 93.02325581395348, 93.02325581395348, 93.02325581395348, 93.02325581395348, 93.02325581395348, 93.02325581395348, 93.02325581395348, 93.02325581395348, 93.02325581395348, 93.02325581395348, 93.02325581395348, 93.02325581395348, 93.02325581395348, 93.02325581395348, 93.02325581395348, 93.02325581395348, 93.02325581395348, 93.02325581395348, 93.02325581395348, 93.02325581395348, 93.02325581395348, 93.02325581395348, 93.02325581395348, 93.02325581395348, 93.02325581395348, 93.02325581395348, 93.02325581395348, 93.02325581395348, 93.02325581395348, 93.02325581395348, 93.02325581395348, 93.02325581395348, 93.02325581395348, 93.02325581395348, 93.02325581395348, 93.02325581395348, 93.02325581395348, 93.02325581395348, 93.02325581395348, 93.02325581395348, 93.02325581395348, 93.02325581395348, 93.02325581395348, 93.02325581395348, 93.02325581395348, 93.02325581395348, 93.02325581395348, 93.02325581395348, 93.02325581395348, 93.02325581395348, 93.02325581395348, 93.02325581395348, 93.02325581395348, 93.02325581395348, 93.02325581395348, 93.02325581395348, 93.02325581395348, 93.02325581395348, 93.02325581395348, 93.02325581395348, 93.02325581395348, 93.02325581395348, 93.02325581395348, 93.02325581395348, 93.02325581395348, 93.02325581395348, 93.02325581395348, 93.02325581395348, 93.02325581395348, 93.02325581395348, 93.02325581395348, 93.02325581395348, 93.02325581395348, 93.02325581395348, 93.02325581395348, 93.02325581395348, 93.02325581395348, 93.02325581395348, 93.02325581395348, 93.02325581395348, 93.02325581395348, 93.02325581395348, 93.02325581395348, 93.02325581395348, 93.02325581395348, 93.02325581395348, 93.02325581395348, 93.02325581395348, 93.02325581395348, 93.02325581395348, 93.02325581395348, 93.02325581395348, 93.02325581395348, 93.02325581395348, 93.02325581395348, 93.02325581395348, 93.02325581395348, 93.02325581395348, 93.02325581395348, 93.02325581395348, 93.02325581395348, 93.02325581395348, 93.02325581395348, 93.02325581395348, 93.02325581395348, 93.02325581395348, 93.02325581395348, 93.02325581395348, 93.02325581395348, 93.02325581395348, 93.02325581395348, 93.02325581395348, 93.02325581395348, 93.02325581395348, 93.02325581395348, 93.02325581395348, 93.02325581395348, 93.02325581395348, 93.02325581395348, 93.02325581395348, 93.02325581395348, 93.02325581395348, 93.02325581395348, 93.02325581395348, 93.02325581395348, 93.02325581395348, 93.02325581395348, 93.02325581395348, 93.02325581395348, 93.02325581395348, 93.02325581395348, 93.02325581395348, 93.02325581395348, 93.02325581395348, 93.02325581395348, 93.02325581395348, 93.02325581395348, 93.02325581395348, 93.02325581395348, 93.02325581395348, 93.02325581395348, 93.02325581395348, 93.02325581395348, 93.02325581395348, 93.02325581395348, 93.02325581395348, 93.02325581395348, 93.02325581395348, 93.02325581395348, 93.02325581395348, 93.02325581395348, 93.02325581395348, 93.02325581395348, 93.02325581395348, 93.02325581395348, 93.02325581395348, 93.02325581395348, 93.02325581395348, 93.02325581395348, 93.02325581395348, 93.02325581395348, 93.02325581395348, 93.02325581395348, 93.02325581395348, 93.02325581395348, 93.02325581395348, 93.02325581395348, 93.02325581395348, 93.02325581395348, 93.02325581395348, 93.02325581395348, 93.02325581395348, 93.02325581395348, 93.02325581395348, 93.02325581395348, 93.02325581395348, 93.02325581395348, 93.02325581395348, 93.02325581395348, 93.02325581395348, 93.02325581395348, 93.02325581395348, 93.02325581395348, 93.02325581395348, 93.02325581395348, 93.02325581395348, 93.02325581395348, 93.02325581395348, 93.02325581395348, 93.02325581395348, 93.02325581395348, 93.02325581395348, 93.02325581395348, 93.02325581395348, 93.02325581395348, 93.02325581395348, 93.02325581395348, 93.02325581395348, 93.02325581395348, 93.02325581395348, 93.02325581395348, 93.02325581395348, 93.02325581395348, 93.02325581395348, 93.02325581395348, 93.02325581395348, 93.02325581395348, 93.02325581395348, 93.02325581395348, 93.02325581395348, 93.02325581395348, 93.02325581395348, 93.02325581395348, 93.02325581395348, 93.02325581395348, 93.02325581395348, 93.02325581395348, 93.02325581395348, 93.02325581395348, 93.02325581395348, 93.02325581395348, 93.02325581395348, 93.02325581395348, 93.02325581395348, 93.02325581395348, 93.02325581395348, 93.02325581395348, 93.02325581395348, 93.02325581395348, 93.02325581395348, 93.02325581395348, 93.02325581395348, 93.02325581395348, 93.02325581395348, 93.02325581395348, 93.02325581395348, 93.02325581395348, 93.02325581395348, 93.02325581395348, 93.02325581395348, 93.02325581395348, 93.02325581395348, 93.02325581395348, 93.02325581395348, 93.02325581395348, 93.02325581395348, 93.02325581395348, 93.02325581395348, 93.02325581395348, 93.02325581395348, 93.02325581395348, 93.02325581395348, 93.02325581395348, 93.02325581395348, 93.02325581395348, 93.02325581395348, 93.02325581395348, 93.02325581395348, 93.02325581395348, 93.02325581395348, 93.02325581395348, 93.02325581395348, 93.02325581395348, 93.02325581395348, 93.02325581395348, 93.02325581395348, 93.02325581395348, 93.02325581395348, 93.02325581395348, 93.02325581395348, 93.02325581395348, 93.02325581395348, 93.02325581395348, 93.02325581395348, 93.02325581395348, 93.02325581395348, 93.02325581395348, 93.02325581395348, 93.02325581395348, 93.02325581395348, 93.02325581395348, 93.02325581395348, 93.02325581395348, 93.02325581395348, 93.02325581395348, 93.02325581395348, 93.02325581395348, 93.02325581395348, 93.02325581395348, 93.02325581395348, 93.02325581395348, 93.02325581395348, 93.02325581395348, 93.02325581395348, 93.02325581395348, 93.02325581395348, 93.02325581395348, 93.02325581395348, 93.02325581395348, 93.02325581395348, 93.02325581395348, 93.02325581395348, 93.02325581395348, 93.02325581395348, 93.02325581395348, 93.02325581395348, 93.02325581395348, 93.02325581395348, 93.02325581395348, 93.02325581395348, 93.02325581395348, 93.02325581395348, 93.02325581395348, 93.02325581395348, 93.02325581395348, 93.02325581395348, 93.02325581395348, 93.02325581395348, 93.02325581395348, 93.02325581395348, 93.02325581395348, 93.02325581395348, 93.02325581395348, 93.02325581395348, 93.02325581395348, 93.02325581395348, 93.02325581395348, 93.02325581395348, 93.02325581395348, 93.02325581395348, 93.02325581395348, 93.02325581395348, 93.02325581395348, 93.02325581395348, 93.02325581395348, 93.02325581395348, 93.02325581395348, 93.02325581395348, 93.02325581395348, 93.02325581395348, 93.02325581395348, 93.02325581395348, 93.02325581395348, 93.02325581395348, 93.02325581395348, 93.02325581395348, 93.02325581395348, 93.02325581395348, 93.02325581395348, 93.02325581395348, 93.02325581395348, 93.02325581395348, 93.02325581395348, 93.02325581395348, 93.02325581395348, 93.02325581395348, 93.02325581395348, 93.02325581395348, 93.02325581395348, 93.02325581395348, 93.02325581395348, 93.02325581395348, 93.02325581395348, 93.02325581395348, 93.02325581395348, 93.02325581395348, 93.02325581395348, 93.02325581395348, 93.02325581395348, 93.02325581395348, 93.02325581395348, 93.02325581395348, 93.02325581395348, 93.02325581395348, 93.02325581395348, 93.02325581395348, 93.02325581395348, 93.02325581395348, 93.02325581395348, 93.02325581395348, 93.02325581395348, 93.02325581395348, 93.02325581395348, 93.02325581395348, 93.02325581395348, 93.02325581395348, 93.02325581395348, 93.02325581395348, 93.02325581395348, 93.02325581395348, 93.02325581395348, 93.02325581395348, 93.02325581395348, 93.02325581395348, 93.02325581395348, 93.02325581395348, 93.02325581395348, 93.02325581395348, 93.02325581395348, 93.02325581395348, 93.02325581395348, 93.02325581395348, 93.02325581395348, 93.02325581395348, 93.02325581395348, 93.02325581395348, 93.02325581395348, 93.02325581395348, 93.02325581395348, 93.02325581395348, 93.02325581395348, 93.02325581395348, 93.02325581395348, 93.02325581395348, 93.02325581395348, 93.02325581395348, 93.02325581395348, 93.02325581395348, 93.02325581395348, 93.02325581395348, 93.02325581395348, 93.02325581395348, 93.02325581395348, 93.02325581395348, 93.02325581395348, 93.02325581395348, 93.02325581395348, 93.02325581395348, 93.02325581395348, 93.02325581395348, 93.02325581395348, 93.02325581395348, 93.02325581395348, 93.02325581395348, 93.02325581395348, 93.02325581395348, 93.02325581395348, 93.02325581395348, 93.02325581395348, 93.02325581395348, 93.02325581395348, 93.02325581395348, 93.02325581395348, 93.02325581395348, 93.02325581395348, 93.02325581395348, 93.02325581395348, 93.02325581395348, 93.02325581395348, 93.02325581395348, 93.02325581395348, 93.02325581395348, 93.02325581395348, 93.02325581395348, 93.02325581395348, 93.02325581395348, 93.02325581395348, 93.02325581395348, 93.02325581395348, 93.02325581395348, 93.02325581395348, 93.02325581395348, 93.02325581395348, 93.02325581395348, 93.02325581395348, 93.02325581395348, 93.02325581395348, 93.02325581395348, 93.02325581395348, 93.02325581395348, 93.02325581395348, 93.02325581395348, 93.02325581395348, 93.02325581395348, 93.02325581395348, 93.02325581395348, 93.02325581395348, 93.02325581395348, 93.02325581395348, 93.02325581395348, 93.02325581395348, 93.02325581395348, 93.02325581395348, 93.02325581395348, 93.02325581395348, 93.02325581395348, 93.02325581395348, 93.02325581395348, 93.02325581395348, 93.02325581395348, 93.02325581395348, 93.02325581395348, 93.02325581395348, 93.02325581395348, 93.02325581395348, 93.02325581395348, 93.02325581395348, 93.02325581395348, 93.02325581395348, 93.02325581395348, 93.02325581395348, 93.02325581395348, 93.02325581395348, 93.02325581395348, 93.02325581395348, 93.02325581395348, 93.02325581395348, 93.02325581395348, 93.02325581395348, 93.02325581395348, 93.02325581395348, 93.02325581395348, 93.02325581395348, 93.02325581395348, 93.02325581395348, 93.02325581395348, 93.02325581395348, 93.02325581395348, 93.02325581395348, 93.02325581395348, 93.02325581395348, 93.02325581395348, 93.02325581395348, 93.02325581395348, 93.02325581395348, 93.02325581395348, 93.02325581395348, 93.02325581395348, 93.02325581395348, 93.02325581395348, 93.02325581395348, 93.02325581395348, 93.02325581395348, 93.02325581395348, 93.02325581395348, 93.02325581395348, 93.02325581395348, 93.02325581395348, 93.02325581395348, 93.02325581395348, 93.02325581395348, 93.02325581395348, 93.02325581395348, 93.02325581395348, 93.02325581395348, 93.02325581395348, 93.02325581395348, 93.02325581395348, 93.02325581395348, 93.02325581395348, 93.02325581395348, 93.02325581395348, 93.02325581395348, 93.02325581395348, 93.02325581395348, 93.02325581395348, 93.02325581395348, 93.02325581395348, 93.02325581395348, 93.02325581395348, 93.02325581395348, 93.02325581395348, 93.02325581395348, 93.02325581395348, 93.02325581395348, 93.02325581395348, 93.02325581395348, 93.02325581395348, 93.02325581395348, 93.02325581395348, 93.02325581395348, 93.02325581395348, 93.02325581395348, 93.02325581395348, 93.02325581395348, 93.02325581395348, 93.02325581395348, 93.02325581395348, 93.02325581395348, 93.02325581395348, 93.02325581395348, 93.02325581395348, 93.02325581395348, 93.02325581395348, 93.02325581395348, 93.02325581395348, 93.02325581395348, 93.02325581395348, 93.02325581395348, 93.02325581395348, 93.02325581395348, 93.02325581395348, 93.02325581395348, 93.02325581395348, 93.02325581395348, 93.02325581395348, 93.02325581395348, 93.02325581395348, 93.02325581395348, 93.02325581395348, 93.02325581395348, 93.02325581395348, 93.02325581395348, 93.02325581395348, 93.02325581395348, 93.02325581395348, 93.02325581395348, 93.02325581395348, 93.02325581395348, 93.02325581395348, 93.02325581395348, 93.02325581395348, 93.02325581395348, 93.02325581395348, 93.02325581395348, 93.02325581395348, 93.02325581395348, 93.02325581395348, 93.02325581395348, 93.02325581395348, 93.02325581395348, 93.02325581395348, 93.02325581395348, 93.02325581395348, 93.02325581395348, 93.02325581395348, 93.02325581395348, 93.02325581395348, 93.02325581395348, 93.02325581395348, 93.02325581395348, 93.02325581395348, 93.02325581395348, 93.02325581395348, 93.02325581395348, 93.02325581395348, 93.02325581395348, 93.02325581395348, 93.02325581395348, 93.02325581395348, 93.02325581395348, 93.02325581395348, 93.02325581395348, 93.02325581395348, 93.02325581395348, 93.02325581395348, 93.02325581395348, 93.02325581395348, 93.02325581395348, 93.02325581395348, 93.02325581395348, 93.02325581395348, 93.02325581395348, 93.02325581395348, 93.02325581395348, 93.02325581395348, 93.02325581395348, 93.02325581395348, 93.02325581395348, 93.02325581395348, 93.02325581395348, 93.02325581395348, 93.02325581395348, 93.02325581395348, 93.02325581395348, 93.02325581395348, 93.02325581395348, 93.02325581395348, 93.02325581395348, 93.02325581395348, 93.02325581395348, 93.02325581395348, 93.02325581395348, 93.02325581395348, 93.02325581395348, 93.02325581395348, 93.02325581395348, 93.02325581395348, 93.02325581395348, 93.02325581395348, 93.02325581395348, 93.02325581395348, 93.02325581395348, 93.02325581395348, 93.02325581395348, 93.02325581395348, 93.02325581395348, 93.02325581395348, 93.02325581395348, 93.02325581395348, 93.02325581395348, 93.02325581395348, 93.02325581395348, 93.02325581395348, 93.02325581395348, 93.02325581395348, 93.02325581395348, 93.02325581395348, 93.02325581395348, 93.02325581395348, 93.02325581395348, 93.02325581395348, 93.02325581395348, 93.02325581395348, 93.02325581395348, 93.02325581395348, 93.02325581395348, 93.02325581395348, 93.02325581395348, 93.02325581395348, 93.02325581395348, 93.02325581395348, 93.02325581395348, 93.02325581395348, 93.02325581395348, 93.02325581395348, 93.02325581395348, 93.02325581395348, 93.02325581395348, 93.02325581395348, 93.02325581395348, 93.02325581395348, 93.02325581395348, 93.02325581395348, 93.02325581395348, 93.02325581395348, 93.02325581395348, 93.02325581395348, 93.02325581395348, 93.02325581395348, 93.02325581395348, 93.02325581395348, 93.02325581395348, 93.02325581395348, 93.02325581395348, 93.02325581395348, 93.02325581395348, 93.02325581395348, 93.02325581395348, 93.02325581395348, 93.02325581395348, 93.02325581395348, 93.02325581395348, 93.02325581395348, 93.02325581395348, 93.02325581395348, 93.02325581395348, 93.02325581395348, 93.02325581395348, 93.02325581395348, 93.02325581395348, 93.02325581395348, 93.02325581395348, 93.02325581395348, 93.02325581395348, 93.02325581395348, 93.02325581395348, 93.02325581395348, 93.02325581395348, 93.02325581395348, 93.02325581395348, 93.02325581395348, 93.02325581395348, 93.02325581395348, 93.02325581395348, 93.02325581395348, 93.02325581395348, 93.02325581395348, 93.02325581395348, 93.02325581395348, 93.02325581395348, 93.02325581395348, 93.02325581395348, 93.02325581395348, 93.02325581395348, 93.02325581395348, 93.02325581395348, 93.02325581395348, 93.02325581395348, 93.02325581395348, 93.02325581395348, 93.02325581395348, 93.02325581395348, 93.02325581395348, 93.02325581395348, 93.02325581395348, 93.02325581395348, 93.02325581395348, 93.02325581395348, 93.02325581395348, 93.02325581395348, 93.02325581395348, 93.02325581395348, 93.02325581395348, 93.02325581395348, 93.02325581395348, 93.02325581395348, 93.02325581395348, 93.02325581395348, 93.02325581395348, 93.02325581395348, 93.02325581395348, 93.02325581395348, 93.02325581395348, 93.02325581395348, 93.02325581395348, 93.02325581395348]\n"
          ],
          "name": "stdout"
        }
      ]
    },
    {
      "cell_type": "code",
      "metadata": {
        "id": "njE018w_aRES",
        "outputId": "c77c0a55-4ff8-499a-c60b-7d81058caecb",
        "colab": {
          "base_uri": "https://localhost:8080/",
          "height": 375
        }
      },
      "source": [
        "plt.plot(best_outputs)\n",
        "plt.xlabel(\"No of Generations\")\n",
        "plt.ylabel(\"$Fitness(\\Theta)$\")\n",
        "plt.title(\"Plot of Fitness Function v/s Generations\")\n",
        "plt.show()"
      ],
      "execution_count": 40,
      "outputs": [
        {
          "output_type": "display_data",
          "data": {
            "image/png": "[encoded data removed]",
            "text/plain": [
              "<Figure size 576x396 with 1 Axes>"
            ]
          },
          "metadata": {
            "tags": []
          }
        }
      ]
    },
    {
      "cell_type": "code",
      "metadata": {
        "id": "WW3fw2iqe9Md",
        "outputId": "564cefb4-2747-4169-d68c-4e463704d6ba",
        "colab": {
          "base_uri": "https://localhost:8080/"
        }
      },
      "source": [
        "fitness = cal_pop_fitness(best_population, data_inputs, data_outputs, test_indices_1, test_indices_2)\n",
        "testacc=numpy.max(fitness)\n",
        "print(\"Testing Accuracy of the best solution is : \", testacc)"
      ],
      "execution_count": 41,
      "outputs": [
        {
          "output_type": "stream",
          "text": [
            "Testing Accuracy of the best solution is :  83.33333333333334\n"
          ],
          "name": "stdout"
        }
      ]
    },
    {
      "cell_type": "code",
      "metadata": {
        "id": "A3Mem7vSXHEi"
      },
      "source": [
        ""
      ],
      "execution_count": null,
      "outputs": []
    }
  ]
}