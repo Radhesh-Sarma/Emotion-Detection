{
 "cells": [
  {
   "cell_type": "markdown",
   "metadata": {
    "colab_type": "text",
    "id": "view-in-github"
   },
   "source": [
    "<a href=\"https://colab.research.google.com/github/Radhesh-Sarma/Emotion-Detection/blob/main/GA.ipynb\" target=\"_parent\"><img src=\"https://colab.research.google.com/assets/colab-badge.svg\" alt=\"Open In Colab\"/></a>"
   ]
  },
  {
   "cell_type": "markdown",
   "metadata": {
    "id": "7givvnDdcs_n"
   },
   "source": [
    "# Genetic Algorithm for feature selection"
   ]
  },
  {
   "cell_type": "code",
   "execution_count": 2,
   "metadata": {
    "id": "MzHNio76WOKy"
   },
   "outputs": [],
   "source": [
    "import numpy\n",
    "import sklearn.svm\n",
    "from sklearn.linear_model import LogisticRegression\n",
    "import numpy\n",
    "import matplotlib.pyplot as plt\n",
    "import random\n",
    "import numpy as np\n",
    "import pandas as pd\n",
    "from sklearn import model_selection\n",
    "import warnings\n",
    "warnings.filterwarnings(\"ignore\")\n",
    "import seaborn as sns\n",
    "plt.style.use('seaborn')\n",
    "from openpyxl import load_workbook"
   ]
  },
  {
   "cell_type": "code",
   "execution_count": 3,
   "metadata": {
    "id": "CjH7hHfWZh-K"
   },
   "outputs": [],
   "source": [
    "def reduce_features(solution, features):\n",
    "    selected_elements_indices = numpy.where(solution == 1)[0]\n",
    "    reduced_features = features[:, selected_elements_indices]\n",
    "    return reduced_features\n",
    "\n",
    "def classification_accuracy(labels, predictions):\n",
    "    correct = numpy.where(labels == predictions)[0]\n",
    "    accuracy = correct.shape[0]/labels.shape[0]\n",
    "    return accuracy*100"
   ]
  },
  {
   "cell_type": "markdown",
   "metadata": {
    "id": "A4lvubtWpxUZ"
   },
   "source": [
    "## Classifier Models"
   ]
  },
  {
   "cell_type": "code",
   "execution_count": 4,
   "metadata": {
    "id": "38z-PDzqZdyg"
   },
   "outputs": [],
   "source": [
    "def cal_pop_fitness(pop, features, labels, train_indices, test_indices):\n",
    "    accuracies = numpy.zeros(pop.shape[0])\n",
    "    idx = 0\n",
    "\n",
    "    for curr_solution in pop:\n",
    "        reduced_features = reduce_features(curr_solution, features)\n",
    "        train_data = reduced_features[train_indices, :]\n",
    "        test_data = reduced_features[test_indices, :]\n",
    "\n",
    "        train_labels = labels[train_indices]\n",
    "        test_labels = labels[test_indices]\n",
    "\n",
    "        #SVM CLASSIFIER\n",
    "        SV_classifier = sklearn.svm.SVC(gamma='scale')\n",
    "        SV_classifier.fit(X=train_data, y=train_labels)\n",
    "        predictions = SV_classifier.predict(test_data)\n",
    "        \n",
    "        accuracies[idx] = classification_accuracy(test_labels, predictions)\n",
    "        idx = idx + 1\n",
    "    return accuracies"
   ]
  },
  {
   "cell_type": "markdown",
   "metadata": {
    "id": "SAmte2mqpnry"
   },
   "source": [
    "## Parent Selection"
   ]
  },
  {
   "cell_type": "code",
   "execution_count": 5,
   "metadata": {
    "id": "iR94WPVSZmcw"
   },
   "outputs": [],
   "source": [
    "#rank selection\n",
    "def rank_selection_mating_pool(pop, fitness, num_parents):\n",
    "    # Selecting the best individuals in the current generation as parents for producing the offspring of the next generation.\n",
    "    parents = numpy.empty((num_parents, pop.shape[1]))\n",
    "    for parent_num in range(num_parents):\n",
    "        max_fitness_idx = numpy.where(fitness == numpy.max(fitness))\n",
    "        max_fitness_idx = max_fitness_idx[0][0]\n",
    "        parents[parent_num, :] = pop[max_fitness_idx, :]\n",
    "        fitness[max_fitness_idx] = -99999999999\n",
    "    return parents\n",
    "\n",
    "#tournament selection\n",
    "def tournament_selection_mating_pool(pop, fitness, num_parents):\n",
    "    # Selecting the best individuals in the current generation as parents for producing the offspring of the next generation.\n",
    "    parents = numpy.empty((num_parents, pop.shape[1]))\n",
    "    k=numpy.uint8(pop.shape[0]/2)\n",
    "    for parent_num in range(num_parents):\n",
    "      tournament = [random.randint(0,len(fitness)-1) for i in range(k)]\n",
    "      fitnesses = [fitness[tournament[i]] for i in range(k)]\n",
    "      parents[parent_num, :]=pop[tournament[fitnesses.index(max(fitnesses))]]\n",
    "    return parents\n",
    "  \n",
    "#roulette wheel selection\n",
    "def roulette_wheel_selection(pop, fitness, num_parents):\n",
    "    # Selecting the best individuals in the current generation as parents for producing the offspring of the next generation.\n",
    "    parents = numpy.empty((num_parents, pop.shape[1]))\n",
    "    for parent_num in range(num_parents):\n",
    "      randomList = random.choices(pop, weights=fitness, k=1) \n",
    "      parents[parent_num, :]=randomList[0]\n",
    "    return parents"
   ]
  },
  {
   "cell_type": "markdown",
   "metadata": {
    "id": "4p8N-xqJpkoM"
   },
   "source": [
    "## Crossover"
   ]
  },
  {
   "cell_type": "code",
   "execution_count": 6,
   "metadata": {
    "id": "s4B1QonEV-WM"
   },
   "outputs": [],
   "source": [
    "#uniform point crossover\n",
    "def uniform_crossover(parents, offspring_size):\n",
    "    offspring = numpy.empty(offspring_size)\n",
    "\n",
    "    for k in range(offspring_size[0]):\n",
    "        # Index of the first parent to mate.\n",
    "        parent1_idx = k%parents.shape[0]\n",
    "        # Index of the second parent to mate.\n",
    "        parent2_idx = (k+1)%parents.shape[0]\n",
    "        #probability matrix\n",
    "        p=np.random.rand(offspring_size[1])\n",
    "\n",
    "        for i in range(offspring_size[1]):\n",
    "        # The new offspring will have its ith genes taken from the first parent if probability<0.5 and from the second parent if the probablility>=0.5.\n",
    "          if p[i]<0.5:\n",
    "            offspring[k,i:i+1] = parents[parent1_idx, i:i+1]\n",
    "          else:\n",
    "            offspring[k,i:i+1] = parents[parent2_idx, i:i+1]\n",
    "    return offspring\n",
    "\n",
    "#single point crossover\n",
    "def single_crossover(parents, offspring_size):\n",
    "    offspring = numpy.empty(offspring_size)\n",
    "    # The point at which crossover takes place between two parents\n",
    "    crossover_point = numpy.random.randint(low=0, high=offspring_size[1])\n",
    "\n",
    "    for k in range(offspring_size[0]):\n",
    "        # Index of the first parent to mate.\n",
    "        parent1_idx = k%parents.shape[0]\n",
    "        # Index of the second parent to mate.\n",
    "        parent2_idx = (k+1)%parents.shape[0]\n",
    "        # The new offspring will have its first half of its genes taken from the first parent.\n",
    "        offspring[k, 0:crossover_point] = parents[parent1_idx, 0:crossover_point]\n",
    "        # The new offspring will have its second half of its genes taken from the second parent.\n",
    "        offspring[k, crossover_point:] = parents[parent2_idx, crossover_point:]\n",
    "    return offspring\n",
    "\n",
    "#two point crossover\n",
    "def two_point_crossover(parents, offspring_size):\n",
    "    offspring = numpy.empty(offspring_size)\n",
    "    # The points at which crossover takes place between two parents\n",
    "    crossover_point_1 = numpy.random.randint(low=0, high=offspring_size[1]-2)\n",
    "    crossover_point_2 = numpy.random.randint(low=crossover_point_1+1, high=offspring_size[1])\n",
    "\n",
    "    for k in range(offspring_size[0]):\n",
    "        # Index of the first parent to mate.\n",
    "        parent1_idx = k%parents.shape[0]\n",
    "        # Index of the second parent to mate.\n",
    "        parent2_idx = (k+1)%parents.shape[0]\n",
    "        # The new offspring will have its first half of its genes taken from the second parent.\n",
    "        offspring[k, 0:crossover_point_1] = parents[parent2_idx, 0:crossover_point_1]\n",
    "        # The new offspring will have its second half of its genes taken from the first parent.\n",
    "        offspring[k, crossover_point_1:crossover_point_2] = parents[parent1_idx, crossover_point_1:crossover_point_2]\n",
    "        # The new offspring will have its third half of its genes taken from the second parent.\n",
    "        offspring[k, crossover_point_2:] = parents[parent2_idx, crossover_point_2:]\n",
    "    return offspring"
   ]
  },
  {
   "cell_type": "markdown",
   "metadata": {
    "id": "0CS4uqFqqDEF"
   },
   "source": [
    "## Mutation"
   ]
  },
  {
   "cell_type": "code",
   "execution_count": 7,
   "metadata": {
    "id": "fsCLRFTOZqCU"
   },
   "outputs": [],
   "source": [
    "#bit flip mutation\n",
    "def bit_flip_mutation(offspring_crossover, num_mutations):\n",
    "    mutation_idx = numpy.random.randint(low=0, high=offspring_crossover.shape[1], size=num_mutations)\n",
    "    # Mutation changes a single gene in each offspring randomly.\n",
    "    for idx in range(offspring_crossover.shape[0]):\n",
    "        # The random value to be added to the gene.\n",
    "        offspring_crossover[idx, mutation_idx] = 1 - offspring_crossover[idx, mutation_idx]\n",
    "    return offspring_crossover\n",
    "\n",
    "#swap mutation\n",
    "def swap_mutation(offspring_crossover, num_mutations):\n",
    "    mutation_idx_1 = numpy.random.randint(low=0, high=offspring_crossover.shape[1], size=num_mutations)\n",
    "    mutation_idx_2 = numpy.random.randint(low=0, high=offspring_crossover.shape[1], size=num_mutations)\n",
    "    # Mutation changes a single gene in each offspring randomly.\n",
    "    for idx in range(offspring_crossover.shape[0]):\n",
    "        # The random value to be added to the gene.\n",
    "        temp=offspring_crossover[idx, mutation_idx_1]\n",
    "        offspring_crossover[idx, mutation_idx_1] = offspring_crossover[idx, mutation_idx_2]\n",
    "        offspring_crossover[idx, mutation_idx_2] = temp\n",
    "    return offspring_crossover\n",
    "\n",
    "#inverse mutation\n",
    "def inverse_mutation(offspring_crossover, num_mutations):\n",
    "    # Mutation changes a single gene in each offspring randomly.\n",
    "    for idx in range(offspring_crossover.shape[0]):\n",
    "      val=numpy.random.randint(low=0, high=offspring_crossover.shape[1]-num_mutations-1)\n",
    "      temp=offspring_crossover[idx]\n",
    "      np.flip(temp)\n",
    "      for j in range(val,val+num_mutations):\n",
    "        offspring_crossover[idx,j:j+1]=temp[j]\n",
    "    return offspring_crossover"
   ]
  },
  {
   "cell_type": "code",
   "execution_count": 8,
   "metadata": {
    "id": "QSX-enuOWJSs"
   },
   "outputs": [],
   "source": [
    "def normalize(dataset):\n",
    "    dataNorm=((dataset-dataset.mean())/(dataset.std()))\n",
    "    dataNorm[\"Sad\"]=dataset[\"Sad\"]\n",
    "    return dataNorm"
   ]
  },
  {
   "cell_type": "code",
   "execution_count": 9,
   "metadata": {
    "id": "dfyLcpWuiI5H"
   },
   "outputs": [],
   "source": [
    "def select_mating_pool(new_population, fitness, num_parents_mating,type):\n",
    "  if(type == \"rank\"):\n",
    "    return rank_selection_mating_pool(new_population, fitness, num_parents_mating)\n",
    "  if(type == \"tournament\"):\n",
    "    return tournament_selection_mating_pool(new_population, fitness, num_parents_mating)\n",
    "  if(type == \"roulette\"):\n",
    "    return roulette_wheel_selection(new_population, fitness, num_parents_mating)\n"
   ]
  },
  {
   "cell_type": "code",
   "execution_count": 10,
   "metadata": {
    "id": "zNt712o4jHWZ"
   },
   "outputs": [],
   "source": [
    "def select_cross_over(parents, offspring_size,type):\n",
    "  if(type == \"uniform\"):\n",
    "    return uniform_crossover(parents, offspring_size)\n",
    "  if(type == \"single\"):\n",
    "    return single_crossover(parents, offspring_size)\n",
    "  if(type == \"two_point\"):\n",
    "    return two_point_crossover(parents, offspring_size)"
   ]
  },
  {
   "cell_type": "code",
   "execution_count": 11,
   "metadata": {
    "id": "VcyCSkh0liro"
   },
   "outputs": [],
   "source": [
    "def select_mutation(offspring_crossover, num_mutations,type):\n",
    "  if(type == \"bit\"):\n",
    "    return bit_flip_mutation(offspring_crossover, num_mutations)\n",
    "  if(type == \"swap\"):\n",
    "    return swap_mutation(offspring_crossover, num_mutations)\n",
    "  if(type == \"inverse\"):\n",
    "    return inverse_mutation(offspring_crossover, num_mutations)"
   ]
  },
  {
   "cell_type": "code",
   "execution_count": 12,
   "metadata": {
    "id": "yhZsVPNcg3ek"
   },
   "outputs": [],
   "source": [
    "def GA(sol_per_pop,num_parents_mating,num_mutations,num_generations,mating,crossover,mutation,number):\n",
    "  new_row_data = []\n",
    "  new_row_data.append(number)\n",
    "  new_row_data.append(sol_per_pop)\n",
    "  new_row_data.append(num_parents_mating)\n",
    "  new_row_data.append(num_mutations)\n",
    "  new_row_data.append(num_generations)\n",
    "  new_row_data.append(mating)\n",
    "  new_row_data.append(crossover)\n",
    "  new_row_data.append(mutation)\n",
    "    \n",
    "    \n",
    "  df = pd.read_csv('Final.csv')\n",
    "  df=df.drop(['face'],1)\n",
    "  df=df.drop(['Unnamed: 0'],1)\n",
    "  df=df.drop(['Unnamed: 0.1'],1)\n",
    "  df=df.drop(['Unnamed: 0.1.1'],1)\n",
    "  df = df.sample(frac = 1) \n",
    "  # print(df)\n",
    "    \n",
    "  df = normalize(df)\n",
    "\n",
    "  x = np.array(df.drop(['Sad'],1))\n",
    "  y = np.array(df['Sad'])\n",
    "\n",
    "  data_inputs = x\n",
    "  data_outputs = y\n",
    "\n",
    "  num_samples = data_inputs.shape[0]\n",
    "  num_feature_elements = data_inputs.shape[1]\n",
    "\n",
    "  train_indices = numpy.arange(0,num_samples*0.7*(0.7), 1,int)\n",
    "  val_indices = numpy.arange(num_samples*0.7*(0.7)+1,num_samples*0.7, 1,int)\n",
    "  test_indices_1 = numpy.arange((num_samples*0.7)+1, num_samples*0.7+num_samples*0.3*0.7, 1,int)\n",
    "  test_indices_2 = numpy.arange(num_samples*0.7+num_samples*0.7*0.3+1, num_samples, 1,int)\n",
    "  # Defining the population shape.\n",
    "  pop_shape = (sol_per_pop, num_feature_elements)\n",
    "  print(\"Mating : \" + str(mating),file = open(str(number) + \".txt\",'a'))\n",
    "  print(\"Crossover : \" + str(crossover),file = open(str(number) + \".txt\",'a'))\n",
    "  print(\"Mutation : \" + str(mutation),file = open(str(number) + \".txt\",'a'))\n",
    "  # Creating the initial population.\n",
    "  new_population = numpy.random.randint(low=0, high=2, size=pop_shape)\n",
    "  best_population=new_population\n",
    "\n",
    "  best_outputs = []\n",
    "  for generation in range(num_generations):\n",
    "    # Measuring the fitness of each chromosome in the population.\n",
    "    fitness = cal_pop_fitness(new_population, data_inputs, data_outputs, train_indices, val_indices)\n",
    "    print(\"Fitness\",file = open(str(number) + \".txt\",'a'))\n",
    "    print(fitness,file = open(str(number) + \".txt\",'a'))\n",
    "    print(numpy.max(fitness),file = open(str(number) + \".txt\",'a'))\n",
    "    if generation>1 and numpy.max(fitness)>=best_outputs[-1]:\n",
    "      best_population=new_population\n",
    "\n",
    "    best_outputs.append(numpy.max(fitness))\n",
    "    # The best result in the current iteration.\n",
    "    print(\"Best fitness so far : \", best_outputs[-1],file = open(str(number) + \".txt\",'a'))\n",
    "\n",
    "    # Selecting the best parents in the population for mating.\n",
    "    parents = select_mating_pool(new_population, fitness, num_parents_mating,type = mating)\n",
    "    print(\"Parents\",file = open(str(number) + \".txt\",'a'))\n",
    "    print(parents,file = open(str(number) + \".txt\",'a'))\n",
    "\n",
    "    # Generating next generation using crossover.\n",
    "    offspring_crossover = select_cross_over(parents, offspring_size=(pop_shape[0]-parents.shape[0], num_feature_elements),type = crossover)\n",
    "    print(\"Crossover\",file = open(str(number) + \".txt\",'a'))\n",
    "    print(offspring_crossover,file = open(str(number) + \".txt\",'a'))\n",
    "\n",
    "    # Adding some variations to the offspring using mutation.\n",
    "    offspring_mutation = select_mutation(offspring_crossover, num_mutations=num_mutations,type = mutation)\n",
    "    print(\"Mutation\",file = open(str(number) + \".txt\",'a'))\n",
    "    print(offspring_mutation,file = open(str(number) + \".txt\",'a'))\n",
    "\n",
    "    # Creating the new population based on the parents and offspring.\n",
    "    new_population[0:parents.shape[0], :] = parents\n",
    "    new_population[parents.shape[0]:, :] = offspring_mutation\n",
    "    # Getting the best solution after iterating finishing all generations.\n",
    "  # At first, the fitness is calculated for each solution in the final generation.\n",
    "  fitness = cal_pop_fitness(best_population, data_inputs, data_outputs, train_indices, val_indices)\n",
    "  # Then return the index of that solution corresponding to the best fitness.\n",
    "  best_match_idx = numpy.where(fitness == numpy.max(fitness))[0]\n",
    "  best_match_idx = best_match_idx[0]\n",
    "\n",
    "  best_solution = best_population[best_match_idx, :]\n",
    "  best_solution_indices = numpy.where(best_solution == 1)[0]\n",
    "  best_solution_num_elements = best_solution_indices.shape[0]\n",
    "  best_solution_fitness = fitness[best_match_idx]\n",
    "\n",
    "  print(\"best_solution : \", best_solution,file = open(str(number) + \".txt\",'a'))\n",
    "  print(\"Selected indices : \", best_solution_indices,file = open(str(number) + \".txt\",'a'))\n",
    "  print(\"Number of selected features : \", best_solution_num_elements,file = open(str(number) + \".txt\",'a'))\n",
    "  print(\"Best solution fitness(Training accuracy) : \", best_solution_fitness,file = open(str(number) + \".txt\",'a'))\n",
    "  new_row_data.append(best_solution_fitness)\n",
    "\n",
    "\n",
    "  \n",
    "  features=df.columns\n",
    "  Dict = {}\n",
    "  for i in range(0,best_solution_num_elements):\n",
    "    Dict[i]=features[best_solution_indices[i]]\n",
    "  import operator\n",
    "  sorted_x = sorted(Dict.items(), key=operator.itemgetter(1),reverse=True)\n",
    "  print(\"Printing features in the best feature subset\",file = open(str(number) + \".txt\",'a'))\n",
    "  x=0\n",
    "  for i in sorted_x:\n",
    "    print(x,\":\",i[1],file = open(str(number) + \".txt\",'a'))\n",
    "    x=x+1\n",
    "\n",
    "\n",
    "  print(best_outputs,file = open(str(number) + \".txt\",'a')) \n",
    "  \n",
    "  plt.plot(best_outputs)\n",
    "  plt.xlabel(\"No of Generations\")\n",
    "  plt.ylabel(\"$Fitness(\\Theta)$\")\n",
    "  plt.title(\"Plot of Fitness Function v/s Generations for permutation \" + str(number))\n",
    "  plt.savefig(str(number) +'.png')\n",
    "\n",
    "\n",
    "\n",
    "  \n",
    "  fitness = cal_pop_fitness(best_population, data_inputs, data_outputs, test_indices_1, test_indices_2)\n",
    "  testacc=numpy.max(fitness)\n",
    "  print(\"Testing Accuracy of the best solution is : \" +  str(testacc),file = open(str(number) + \".txt\",'a'))\n",
    "  new_row_data.append(testacc)\n",
    "  wb = load_workbook(\"results.xlsx\")\n",
    "    # Select First Worksheet\n",
    "  ws = wb.worksheets[0]\n",
    "  ws.append(new_row_data)\n",
    "  wb.save(\"results.xlsx\")"
   ]
  },
  {
   "cell_type": "code",
   "execution_count": 14,
   "metadata": {
    "id": "Nahv1KYam_64"
   },
   "outputs": [
    {
     "ename": "KeyboardInterrupt",
     "evalue": "",
     "output_type": "error",
     "traceback": [
      "\u001b[1;31m---------------------------------------------------------------------------\u001b[0m",
      "\u001b[1;31mKeyboardInterrupt\u001b[0m                         Traceback (most recent call last)",
      "\u001b[1;32m<ipython-input-14-dc4dbd64b568>\u001b[0m in \u001b[0;36m<module>\u001b[1;34m\u001b[0m\n\u001b[0;32m     13\u001b[0m                 \u001b[1;32mfor\u001b[0m \u001b[0mcross_over\u001b[0m \u001b[1;32min\u001b[0m \u001b[0mcross_overs\u001b[0m\u001b[1;33m:\u001b[0m\u001b[1;33m\u001b[0m\u001b[1;33m\u001b[0m\u001b[0m\n\u001b[0;32m     14\u001b[0m                     \u001b[1;32mfor\u001b[0m \u001b[0mmutation\u001b[0m \u001b[1;32min\u001b[0m \u001b[0mmutations\u001b[0m\u001b[1;33m:\u001b[0m\u001b[1;33m\u001b[0m\u001b[1;33m\u001b[0m\u001b[0m\n\u001b[1;32m---> 15\u001b[1;33m                         \u001b[0mGA\u001b[0m\u001b[1;33m(\u001b[0m\u001b[0msol_per_pop\u001b[0m \u001b[1;33m=\u001b[0m \u001b[0msol\u001b[0m\u001b[1;33m,\u001b[0m\u001b[0mnum_parents_mating\u001b[0m \u001b[1;33m=\u001b[0m \u001b[0mparent\u001b[0m\u001b[1;33m,\u001b[0m\u001b[0mnum_mutations\u001b[0m \u001b[1;33m=\u001b[0m \u001b[1;36m70\u001b[0m\u001b[1;33m,\u001b[0m\u001b[0mnum_generations\u001b[0m \u001b[1;33m=\u001b[0m \u001b[0mnum_gen\u001b[0m\u001b[1;33m,\u001b[0m\u001b[0mmating\u001b[0m \u001b[1;33m=\u001b[0m \u001b[0mmating\u001b[0m\u001b[1;33m,\u001b[0m\u001b[0mcrossover\u001b[0m \u001b[1;33m=\u001b[0m \u001b[0mcross_over\u001b[0m\u001b[1;33m,\u001b[0m\u001b[0mmutation\u001b[0m \u001b[1;33m=\u001b[0m \u001b[0mmutation\u001b[0m\u001b[1;33m,\u001b[0m\u001b[0mnumber\u001b[0m \u001b[1;33m=\u001b[0m \u001b[0mpermutation\u001b[0m\u001b[1;33m)\u001b[0m\u001b[1;33m\u001b[0m\u001b[1;33m\u001b[0m\u001b[0m\n\u001b[0m\u001b[0;32m     16\u001b[0m                         \u001b[0mpermutation\u001b[0m \u001b[1;33m=\u001b[0m \u001b[0mpermutation\u001b[0m \u001b[1;33m+\u001b[0m \u001b[1;36m1\u001b[0m\u001b[1;33m\u001b[0m\u001b[1;33m\u001b[0m\u001b[0m\n",
      "\u001b[1;32m<ipython-input-12-e18db808b9c2>\u001b[0m in \u001b[0;36mGA\u001b[1;34m(sol_per_pop, num_parents_mating, num_mutations, num_generations, mating, crossover, mutation, number)\u001b[0m\n\u001b[0;32m     46\u001b[0m   \u001b[1;32mfor\u001b[0m \u001b[0mgeneration\u001b[0m \u001b[1;32min\u001b[0m \u001b[0mrange\u001b[0m\u001b[1;33m(\u001b[0m\u001b[0mnum_generations\u001b[0m\u001b[1;33m)\u001b[0m\u001b[1;33m:\u001b[0m\u001b[1;33m\u001b[0m\u001b[1;33m\u001b[0m\u001b[0m\n\u001b[0;32m     47\u001b[0m     \u001b[1;31m# Measuring the fitness of each chromosome in the population.\u001b[0m\u001b[1;33m\u001b[0m\u001b[1;33m\u001b[0m\u001b[1;33m\u001b[0m\u001b[0m\n\u001b[1;32m---> 48\u001b[1;33m     \u001b[0mfitness\u001b[0m \u001b[1;33m=\u001b[0m \u001b[0mcal_pop_fitness\u001b[0m\u001b[1;33m(\u001b[0m\u001b[0mnew_population\u001b[0m\u001b[1;33m,\u001b[0m \u001b[0mdata_inputs\u001b[0m\u001b[1;33m,\u001b[0m \u001b[0mdata_outputs\u001b[0m\u001b[1;33m,\u001b[0m \u001b[0mtrain_indices\u001b[0m\u001b[1;33m,\u001b[0m \u001b[0mval_indices\u001b[0m\u001b[1;33m)\u001b[0m\u001b[1;33m\u001b[0m\u001b[1;33m\u001b[0m\u001b[0m\n\u001b[0m\u001b[0;32m     49\u001b[0m     \u001b[0mprint\u001b[0m\u001b[1;33m(\u001b[0m\u001b[1;34m\"Fitness\"\u001b[0m\u001b[1;33m,\u001b[0m\u001b[0mfile\u001b[0m \u001b[1;33m=\u001b[0m \u001b[0mopen\u001b[0m\u001b[1;33m(\u001b[0m\u001b[0mstr\u001b[0m\u001b[1;33m(\u001b[0m\u001b[0mnumber\u001b[0m\u001b[1;33m)\u001b[0m \u001b[1;33m+\u001b[0m \u001b[1;34m\".txt\"\u001b[0m\u001b[1;33m,\u001b[0m\u001b[1;34m'a'\u001b[0m\u001b[1;33m)\u001b[0m\u001b[1;33m)\u001b[0m\u001b[1;33m\u001b[0m\u001b[1;33m\u001b[0m\u001b[0m\n\u001b[0;32m     50\u001b[0m     \u001b[0mprint\u001b[0m\u001b[1;33m(\u001b[0m\u001b[0mfitness\u001b[0m\u001b[1;33m,\u001b[0m\u001b[0mfile\u001b[0m \u001b[1;33m=\u001b[0m \u001b[0mopen\u001b[0m\u001b[1;33m(\u001b[0m\u001b[0mstr\u001b[0m\u001b[1;33m(\u001b[0m\u001b[0mnumber\u001b[0m\u001b[1;33m)\u001b[0m \u001b[1;33m+\u001b[0m \u001b[1;34m\".txt\"\u001b[0m\u001b[1;33m,\u001b[0m\u001b[1;34m'a'\u001b[0m\u001b[1;33m)\u001b[0m\u001b[1;33m)\u001b[0m\u001b[1;33m\u001b[0m\u001b[1;33m\u001b[0m\u001b[0m\n",
      "\u001b[1;32m<ipython-input-4-f49ff410b33d>\u001b[0m in \u001b[0;36mcal_pop_fitness\u001b[1;34m(pop, features, labels, train_indices, test_indices)\u001b[0m\n\u001b[0;32m     13\u001b[0m         \u001b[1;31m#SVM CLASSIFIER\u001b[0m\u001b[1;33m\u001b[0m\u001b[1;33m\u001b[0m\u001b[1;33m\u001b[0m\u001b[0m\n\u001b[0;32m     14\u001b[0m         \u001b[0mSV_classifier\u001b[0m \u001b[1;33m=\u001b[0m \u001b[0msklearn\u001b[0m\u001b[1;33m.\u001b[0m\u001b[0msvm\u001b[0m\u001b[1;33m.\u001b[0m\u001b[0mSVC\u001b[0m\u001b[1;33m(\u001b[0m\u001b[0mgamma\u001b[0m\u001b[1;33m=\u001b[0m\u001b[1;34m'scale'\u001b[0m\u001b[1;33m)\u001b[0m\u001b[1;33m\u001b[0m\u001b[1;33m\u001b[0m\u001b[0m\n\u001b[1;32m---> 15\u001b[1;33m         \u001b[0mSV_classifier\u001b[0m\u001b[1;33m.\u001b[0m\u001b[0mfit\u001b[0m\u001b[1;33m(\u001b[0m\u001b[0mX\u001b[0m\u001b[1;33m=\u001b[0m\u001b[0mtrain_data\u001b[0m\u001b[1;33m,\u001b[0m \u001b[0my\u001b[0m\u001b[1;33m=\u001b[0m\u001b[0mtrain_labels\u001b[0m\u001b[1;33m)\u001b[0m\u001b[1;33m\u001b[0m\u001b[1;33m\u001b[0m\u001b[0m\n\u001b[0m\u001b[0;32m     16\u001b[0m         \u001b[0mpredictions\u001b[0m \u001b[1;33m=\u001b[0m \u001b[0mSV_classifier\u001b[0m\u001b[1;33m.\u001b[0m\u001b[0mpredict\u001b[0m\u001b[1;33m(\u001b[0m\u001b[0mtest_data\u001b[0m\u001b[1;33m)\u001b[0m\u001b[1;33m\u001b[0m\u001b[1;33m\u001b[0m\u001b[0m\n\u001b[0;32m     17\u001b[0m \u001b[1;33m\u001b[0m\u001b[0m\n",
      "\u001b[1;32mc:\\users\\radhe\\appdata\\local\\programs\\python\\python37\\lib\\site-packages\\sklearn\\svm\\_base.py\u001b[0m in \u001b[0;36mfit\u001b[1;34m(self, X, y, sample_weight)\u001b[0m\n\u001b[0;32m    215\u001b[0m \u001b[1;33m\u001b[0m\u001b[0m\n\u001b[0;32m    216\u001b[0m         \u001b[0mseed\u001b[0m \u001b[1;33m=\u001b[0m \u001b[0mrnd\u001b[0m\u001b[1;33m.\u001b[0m\u001b[0mrandint\u001b[0m\u001b[1;33m(\u001b[0m\u001b[0mnp\u001b[0m\u001b[1;33m.\u001b[0m\u001b[0miinfo\u001b[0m\u001b[1;33m(\u001b[0m\u001b[1;34m'i'\u001b[0m\u001b[1;33m)\u001b[0m\u001b[1;33m.\u001b[0m\u001b[0mmax\u001b[0m\u001b[1;33m)\u001b[0m\u001b[1;33m\u001b[0m\u001b[1;33m\u001b[0m\u001b[0m\n\u001b[1;32m--> 217\u001b[1;33m         \u001b[0mfit\u001b[0m\u001b[1;33m(\u001b[0m\u001b[0mX\u001b[0m\u001b[1;33m,\u001b[0m \u001b[0my\u001b[0m\u001b[1;33m,\u001b[0m \u001b[0msample_weight\u001b[0m\u001b[1;33m,\u001b[0m \u001b[0msolver_type\u001b[0m\u001b[1;33m,\u001b[0m \u001b[0mkernel\u001b[0m\u001b[1;33m,\u001b[0m \u001b[0mrandom_seed\u001b[0m\u001b[1;33m=\u001b[0m\u001b[0mseed\u001b[0m\u001b[1;33m)\u001b[0m\u001b[1;33m\u001b[0m\u001b[1;33m\u001b[0m\u001b[0m\n\u001b[0m\u001b[0;32m    218\u001b[0m         \u001b[1;31m# see comment on the other call to np.iinfo in this file\u001b[0m\u001b[1;33m\u001b[0m\u001b[1;33m\u001b[0m\u001b[1;33m\u001b[0m\u001b[0m\n\u001b[0;32m    219\u001b[0m \u001b[1;33m\u001b[0m\u001b[0m\n",
      "\u001b[1;32mc:\\users\\radhe\\appdata\\local\\programs\\python\\python37\\lib\\site-packages\\sklearn\\svm\\_base.py\u001b[0m in \u001b[0;36m_dense_fit\u001b[1;34m(self, X, y, sample_weight, solver_type, kernel, random_seed)\u001b[0m\n\u001b[0;32m    274\u001b[0m                 \u001b[0mcache_size\u001b[0m\u001b[1;33m=\u001b[0m\u001b[0mself\u001b[0m\u001b[1;33m.\u001b[0m\u001b[0mcache_size\u001b[0m\u001b[1;33m,\u001b[0m \u001b[0mcoef0\u001b[0m\u001b[1;33m=\u001b[0m\u001b[0mself\u001b[0m\u001b[1;33m.\u001b[0m\u001b[0mcoef0\u001b[0m\u001b[1;33m,\u001b[0m\u001b[1;33m\u001b[0m\u001b[1;33m\u001b[0m\u001b[0m\n\u001b[0;32m    275\u001b[0m                 \u001b[0mgamma\u001b[0m\u001b[1;33m=\u001b[0m\u001b[0mself\u001b[0m\u001b[1;33m.\u001b[0m\u001b[0m_gamma\u001b[0m\u001b[1;33m,\u001b[0m \u001b[0mepsilon\u001b[0m\u001b[1;33m=\u001b[0m\u001b[0mself\u001b[0m\u001b[1;33m.\u001b[0m\u001b[0mepsilon\u001b[0m\u001b[1;33m,\u001b[0m\u001b[1;33m\u001b[0m\u001b[1;33m\u001b[0m\u001b[0m\n\u001b[1;32m--> 276\u001b[1;33m                 max_iter=self.max_iter, random_seed=random_seed)\n\u001b[0m\u001b[0;32m    277\u001b[0m \u001b[1;33m\u001b[0m\u001b[0m\n\u001b[0;32m    278\u001b[0m         \u001b[0mself\u001b[0m\u001b[1;33m.\u001b[0m\u001b[0m_warn_from_fit_status\u001b[0m\u001b[1;33m(\u001b[0m\u001b[1;33m)\u001b[0m\u001b[1;33m\u001b[0m\u001b[1;33m\u001b[0m\u001b[0m\n",
      "\u001b[1;31mKeyboardInterrupt\u001b[0m: "
     ]
    },
    {
     "data": {
      "image/png": "[encoded data removed]",
      "text/plain": [
       "<Figure size 576x396 with 1 Axes>"
      ]
     },
     "metadata": {},
     "output_type": "display_data"
    }
   ],
   "source": [
    "matings = [\"rank\",\"tournament\",\"roulette\"]\n",
    "cross_overs = [\"uniform\",\"single\",\"two_point\"]\n",
    "mutations = [\"bit\",\"swap\",\"inverse\"]\n",
    "sols = [10,20]\n",
    "num_gens = [50,100,150,200]\n",
    "parents = [2,4,6,8,10]\n",
    "permutation = 1\n",
    "\n",
    "for sol in sols:\n",
    "    for num_gen in num_gens:\n",
    "        for parent in parents:\n",
    "            for mating in matings:\n",
    "                for cross_over in cross_overs:\n",
    "                    for mutation in mutations:\n",
    "                        GA(sol_per_pop = sol,num_parents_mating = parent,num_mutations = 70,num_generations = num_gen,mating = mating,crossover = cross_over,mutation = mutation,number = permutation)\n",
    "                        permutation = permutation + 1\n"
   ]
  },
  {
   "cell_type": "code",
   "execution_count": 53,
   "metadata": {
    "colab": {
     "base_uri": "https://localhost:8080/",
     "height": 1000
    },
    "id": "otyVCmVCsfyk",
    "outputId": "57b2869b-cc63-4a1e-dff4-b5365f3cb423"
   },
   "outputs": [
    {
     "data": {
      "image/png": "[encoded data removed]",
      "text/plain": [
       "<Figure size 576x396 with 1 Axes>"
      ]
     },
     "metadata": {},
     "output_type": "display_data"
    }
   ],
   "source": [
    "from openpyxl import load_workbook\n",
    "GA(sol_per_pop = 20,num_parents_mating = 10,num_mutations = 70,num_generations = 100,mating = \"rank\",crossover = \"uniform\",mutation = \"inverse\",number = 100000)"
   ]
  },
  {
   "cell_type": "code",
   "execution_count": null,
   "metadata": {
    "id": "Kr-YGl-eUZs-"
   },
   "outputs": [],
   "source": []
  }
 ],
 "metadata": {
  "colab": {
   "collapsed_sections": [],
   "include_colab_link": true,
   "name": "Copy of GA_new_2.ipynb",
   "provenance": [],
   "toc_visible": true
  },
  "kernelspec": {
   "display_name": "Python 3",
   "language": "python",
   "name": "python3"
  },
  "language_info": {
   "codemirror_mode": {
    "name": "ipython",
    "version": 3
   },
   "file_extension": ".py",
   "mimetype": "text/x-python",
   "name": "python",
   "nbconvert_exporter": "python",
   "pygments_lexer": "ipython3",
   "version": "3.7.9"
  }
 },
 "nbformat": 4,
 "nbformat_minor": 1
}
