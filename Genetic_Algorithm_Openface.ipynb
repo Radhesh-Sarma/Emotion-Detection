{
  "nbformat": 4,
  "nbformat_minor": 0,
  "metadata": {
    "colab": {
      "name": "Genetic_Algorithm_Openface.ipynb",
      "provenance": [],
      "collapsed_sections": [],
      "authorship_tag": "ABX9TyM2Opm0vQYjssdR8RePB6h4",
      "include_colab_link": true
    },
    "kernelspec": {
      "name": "python3",
      "display_name": "Python 3"
    }
  },
  "cells": [
    {
      "cell_type": "markdown",
      "metadata": {
        "id": "view-in-github",
        "colab_type": "text"
      },
      "source": [
        "<a href=\"https://colab.research.google.com/github/Radhesh-Sarma/Emotion-Detection/blob/main/Genetic_Algorithm_Openface.ipynb\" target=\"_parent\"><img src=\"https://colab.research.google.com/assets/colab-badge.svg\" alt=\"Open In Colab\"/></a>"
      ]
    },
    {
      "cell_type": "code",
      "metadata": {
        "id": "cBQNjXiigAn0"
      },
      "source": [
        "import numpy\n",
        "import random\n",
        "import pickle\n",
        "import matplotlib.pyplot"
      ],
      "execution_count": null,
      "outputs": []
    },
    {
      "cell_type": "code",
      "metadata": {
        "id": "GDfC9ZbltisJ"
      },
      "source": [
        "def sigmoid(inpt):\n",
        "    return 1.0 / (1.0 + numpy.exp(-1 * inpt))\n",
        "\n",
        "def relu(inpt):\n",
        "    result = inpt\n",
        "    result[inpt < 0] = 0\n",
        "    return result"
      ],
      "execution_count": null,
      "outputs": []
    },
    {
      "cell_type": "markdown",
      "metadata": {
        "id": "qoRgAa90uE21"
      },
      "source": [
        "#Genetic Algorithm"
      ]
    },
    {
      "cell_type": "code",
      "metadata": {
        "id": "NLqVIAF9gR0m"
      },
      "source": [
        "def select_mating_pool(pop, fitness, num_parents):\n",
        "    # Selecting the best individuals in the current generation as parents for producing the offspring of the next generation.\n",
        "    parents = numpy.empty((num_parents, pop.shape[1]))\n",
        "    for parent_num in range(num_parents):\n",
        "        max_fitness_idx = numpy.where(fitness == numpy.max(fitness))\n",
        "        max_fitness_idx = max_fitness_idx[0][0]\n",
        "        parents[parent_num, :] = pop[max_fitness_idx, :]\n",
        "        fitness[max_fitness_idx] = -99999999999\n",
        "    return parents"
      ],
      "execution_count": null,
      "outputs": []
    },
    {
      "cell_type": "code",
      "metadata": {
        "id": "eRW6ebNigLwa"
      },
      "source": [
        "def crossover(parents, offspring_size):\n",
        "    offspring = numpy.empty(offspring_size)\n",
        "    # The point at which crossover takes place between two parents. Usually, it is at the center.\n",
        "    crossover_point = numpy.uint32(offspring_size[1]/2)\n",
        "    \n",
        "    for k in range(offspring_size[0]):\n",
        "        # Index of the first parent to mate.\n",
        "        parent1_idx = k%parents.shape[0]\n",
        "        # Index of the second parent to mate.\n",
        "        parent2_idx = (k+1)%parents.shape[0]\n",
        "        # The new offspring will have its first half of its genes taken from the first parent.\n",
        "        offspring[k, 0:crossover_point] = parents[parent1_idx, 0:crossover_point]\n",
        "        # The new offspring will have its second half of its genes taken from the second parent.\n",
        "        offspring[k, crossover_point:] = parents[parent2_idx, crossover_point:]\n",
        "    return offspring"
      ],
      "execution_count": null,
      "outputs": []
    },
    {
      "cell_type": "code",
      "metadata": {
        "id": "j08HFdBngHv4"
      },
      "source": [
        "def mutation(offspring_crossover, mutation_percent):\n",
        "    num_mutations = numpy.uint32((mutation_percent*offspring_crossover.shape[1])/100)\n",
        "    mutation_indices = numpy.array(random.sample(range(0, offspring_crossover.shape[1]), num_mutations))\n",
        "\n",
        "    # Mutation changes a single gene in each offspring randomly.\n",
        "\n",
        "    for idx in range(offspring_crossover.shape[0]):\n",
        "        # The random value to be added to the gene.\n",
        "        random_value = numpy.random.uniform(-1.0, 1.0, 1)\n",
        "        offspring_crossover[idx, mutation_indices] = offspring_crossover[idx, mutation_indices] + random_value\n",
        "    return offspring_crossover"
      ],
      "execution_count": null,
      "outputs": []
    },
    {
      "cell_type": "markdown",
      "metadata": {
        "id": "G2eYRxPNh5Lf"
      },
      "source": [
        "# Changing weight matrices to 1-D vectors"
      ]
    },
    {
      "cell_type": "code",
      "metadata": {
        "id": "mqRglZErgHPS"
      },
      "source": [
        "def mat_to_vector(mat_pop_weights):\n",
        "    pop_weights_vector = []\n",
        "    for sol_idx in range(mat_pop_weights.shape[0]):\n",
        "        curr_vector = []\n",
        "        for layer_idx in range(mat_pop_weights.shape[1]):\n",
        "            vector_weights = numpy.reshape(mat_pop_weights[sol_idx, layer_idx], newshape=(mat_pop_weights[sol_idx, layer_idx].size))\n",
        "            curr_vector.extend(vector_weights)\n",
        "        pop_weights_vector.append(curr_vector)\n",
        "    return numpy.array(pop_weights_vector)"
      ],
      "execution_count": null,
      "outputs": []
    },
    {
      "cell_type": "markdown",
      "metadata": {
        "id": "hC0E-NVQjbbK"
      },
      "source": [
        "# Changing 1-D vectors to weight matrices"
      ]
    },
    {
      "cell_type": "code",
      "metadata": {
        "id": "kdhrp-wai-bT"
      },
      "source": [
        "def vector_to_mat(vector_pop_weights, mat_pop_weights):\n",
        "    mat_weights = []\n",
        "    for sol_idx in range(mat_pop_weights.shape[0]):\n",
        "        start = 0\n",
        "        end = 0\n",
        "        for layer_idx in range(mat_pop_weights.shape[1]):\n",
        "            end = end + mat_pop_weights[sol_idx, layer_idx].size\n",
        "            curr_vector = vector_pop_weights[sol_idx, start:end]\n",
        "            mat_layer_weights = numpy.reshape(curr_vector, newshape=(mat_pop_weights[sol_idx, layer_idx].shape))\n",
        "            mat_weights.append(mat_layer_weights)\n",
        "            start = end\n",
        "    return numpy.reshape(mat_weights, newshape=mat_pop_weights.shape)"
      ],
      "execution_count": null,
      "outputs": []
    },
    {
      "cell_type": "markdown",
      "metadata": {
        "id": "C33iG1_bkb1U"
      },
      "source": [
        "# Muliplying weights with input to predict output**"
      ]
    },
    {
      "cell_type": "code",
      "metadata": {
        "id": "sN1Db8hhkp_h"
      },
      "source": [
        "def predict_outputs(weights_mat, data_inputs, data_outputs, activation=\"relu\"):\n",
        "    predictions = numpy.zeros(shape=(data_inputs.shape[0]))\n",
        "    for sample_idx in range(data_inputs.shape[0]):\n",
        "        r1 = data_inputs[sample_idx, :]\n",
        "        for curr_weights in weights_mat:\n",
        "            r1 = numpy.matmul(a=r1, b=curr_weights)\n",
        "            if activation == \"relu\":\n",
        "                r1 = relu(r1)\n",
        "            elif activation == \"sigmoid\":\n",
        "                r1 = sigmoid(r1)\n",
        "        predicted_label = numpy.where(r1 == numpy.max(r1))[0][0]\n",
        "        predictions[sample_idx] = predicted_label\n",
        "    #add prob>0.5\n",
        "    correct_predictions = numpy.where(predictions == data_outputs)[0].size\n",
        "    accuracy = (correct_predictions/data_outputs.size)*100\n",
        "    return accuracy, predictions"
      ],
      "execution_count": null,
      "outputs": []
    },
    {
      "cell_type": "markdown",
      "metadata": {
        "id": "UeFGCvCTkdq5"
      },
      "source": [
        "# Fitness Function"
      ]
    },
    {
      "cell_type": "code",
      "metadata": {
        "id": "-pEEHijkmGbh"
      },
      "source": [
        "def fitness(weights_mat, data_inputs, data_outputs, activation=\"relu\"):\n",
        "    accuracy = numpy.empty(shape=(weights_mat.shape[0]))\n",
        "    for sol_idx in range(weights_mat.shape[0]):\n",
        "        curr_sol_mat = weights_mat[sol_idx, :]\n",
        "        accuracy[sol_idx], _ = predict_outputs(curr_sol_mat, data_inputs, data_outputs, activation=activation)\n",
        "    return accuracy"
      ],
      "execution_count": null,
      "outputs": []
    },
    {
      "cell_type": "markdown",
      "metadata": {
        "id": "wfRTvrQLpC_u"
      },
      "source": [
        "# Read the dataset **"
      ]
    },
    {
      "cell_type": "code",
      "metadata": {
        "id": "it3WtDEyo8oJ"
      },
      "source": [
        "f = open(\"dataset_features.pkl\", \"rb\")\n",
        "data_inputs2 = pickle.load(f)\n",
        "f.close()\n",
        "features_STDs = numpy.std(a=data_inputs2, axis=0)\n",
        "data_inputs = data_inputs2[:, features_STDs>50]\n",
        "f = open(\"outputs.pkl\", \"rb\")\n",
        "data_outputs = pickle.load(f)\n",
        "f.close()"
      ],
      "execution_count": null,
      "outputs": []
    },
    {
      "cell_type": "code",
      "metadata": {
        "id": "YY7_8VUumPJA"
      },
      "source": [
        "#Genetic algorithm parameters:\n",
        "sol_per_pop = 8           #Population Size\n",
        "num_parents_mating = 2    #Mating Pool Size (Number of Parents)\n",
        "num_generations = 1000    #Number of Generations\n",
        "mutation_percent = 10     #Mutation Percent\n",
        "\n",
        "#Creating the initial population.\n",
        "initial_pop_weights = []\n",
        "\n",
        "for curr_sol in numpy.arange(0, sol_per_pop):\n",
        "\n",
        "    HL1_neurons = 150\n",
        "    input_HL1_weights = numpy.random.uniform(low=-0.1, high=0.1, size=(data_inputs.shape[1], HL1_neurons))\n",
        "\n",
        "    HL2_neurons = 60\n",
        "    HL1_HL2_weights = numpy.random.uniform(low=-0.1, high=0.1, size=(HL1_neurons, HL2_neurons))\n",
        "\n",
        "    output_neurons = 2\n",
        "    HL2_output_weights = numpy.random.uniform(low=-0.1, high=0.1, size=(HL2_neurons, output_neurons))\n",
        "\n",
        "    initial_pop_weights.append(numpy.array([input_HL1_weights, HL1_HL2_weights, HL2_output_weights]))\n",
        "\n",
        "pop_weights_mat = numpy.array(initial_pop_weights)\n",
        "pop_weights_vector = mat_to_vector(pop_weights_mat)\n",
        "best_outputs = []\n",
        "accuracies = numpy.empty(shape=(num_generations))"
      ],
      "execution_count": null,
      "outputs": []
    },
    {
      "cell_type": "code",
      "metadata": {
        "id": "ZxHAgkwvsERg"
      },
      "source": [
        "for generation in range(num_generations):\n",
        "\n",
        "    print(\"Generation : \", generation)\n",
        "    # converting the solutions from being vectors to matrices.\n",
        "    pop_weights_mat = vector_to_mat(pop_weights_vector, pop_weights_mat)\n",
        "\n",
        "    # Measuring the fitness of each chromosome in the population.\n",
        "    fitness = ANN.fitness(pop_weights_mat, data_inputs, data_outputs, activation=\"sigmoid\")\n",
        "    accuracies[generation] = fitness[0]\n",
        "\n",
        "    print(\"Fitness\")\n",
        "    print(fitness)\n",
        "\n",
        "    # Selecting the best parents in the population for mating.\n",
        "    parents = select_mating_pool(pop_weights_vector, fitness.copy(), num_parents_mating)\n",
        "\n",
        "    print(\"Parents\")\n",
        "    print(parents)\n",
        "\n",
        "    # Generating next generation using crossover.\n",
        "    offspring_crossover = crossover(parents, offspring_size=(pop_weights_vector.shape[0]-parents.shape[0], pop_weights_vector.shape[1]))\n",
        "\n",
        "    print(\"Crossover\")\n",
        "    print(offspring_crossover)\n",
        "\n",
        "    # Adding some variations to the offsrping using mutation.\n",
        "    offspring_mutation = mutation(offspring_crossover, mutation_percent=mutation_percent)\n",
        "\n",
        "    print(\"Mutation\")\n",
        "    print(offspring_mutation)\n",
        "\n",
        "    # Creating the new population based on the parents and offspring.\n",
        "    pop_weights_vector[0:parents.shape[0], :] = parents\n",
        "    pop_weights_vector[parents.shape[0]:, :] = offspring_mutation"
      ],
      "execution_count": null,
      "outputs": []
    },
    {
      "cell_type": "code",
      "metadata": {
        "id": "Jx7JxvfTsPjQ"
      },
      "source": [
        "pop_weights_mat = vector_to_mat(pop_weights_vector, pop_weights_mat)\n",
        "best_weights = pop_weights_mat [0, :]\n",
        "acc, predictions = predict_outputs(best_weights, data_inputs, data_outputs, activation=\"sigmoid\")\n",
        "print(\"Accuracy of the best solution is : \", acc)"
      ],
      "execution_count": null,
      "outputs": []
    },
    {
      "cell_type": "code",
      "metadata": {
        "id": "PwIBZ30nspiz"
      },
      "source": [
        "matplotlib.pyplot.plot(accuracies, linewidth=5, color=\"black\")\n",
        "matplotlib.pyplot.xlabel(\"Iteration\", fontsize=20)\n",
        "matplotlib.pyplot.ylabel(\"Fitness\", fontsize=20)\n",
        "matplotlib.pyplot.xticks(numpy.arange(0, num_generations+1, 100), fontsize=15)\n",
        "matplotlib.pyplot.yticks(numpy.arange(0, 101, 5), fontsize=15)"
      ],
      "execution_count": null,
      "outputs": []
    },
    {
      "cell_type": "code",
      "metadata": {
        "id": "tgAOYkfdsyF_"
      },
      "source": [
        "/////////\n",
        "f = open(\"weights_\"+str(num_generations)+\"_iterations_\"+str(mutation_percent)+\"%_mutation.pkl\", \"wb\")\n",
        "pickle.dump(pop_weights_mat, f)\n",
        "f.close()\n",
        "Bas"
      ],
      "execution_count": null,
      "outputs": []
    }
  ]
}