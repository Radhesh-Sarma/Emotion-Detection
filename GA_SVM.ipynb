{
  "nbformat": 4,
  "nbformat_minor": 0,
  "metadata": {
    "colab": {
      "name": "Copy of GA_new_2.ipynb",
      "provenance": [],
      "collapsed_sections": [],
      "toc_visible": true,
      "include_colab_link": true
    },
    "kernelspec": {
      "display_name": "Python 3",
      "language": "python",
      "name": "python3"
    },
    "language_info": {
      "codemirror_mode": {
        "name": "ipython",
        "version": 3
      },
      "file_extension": ".py",
      "mimetype": "text/x-python",
      "name": "python",
      "nbconvert_exporter": "python",
      "pygments_lexer": "ipython3",
      "version": "3.7.9"
    }
  },
  "cells": [
    {
      "cell_type": "markdown",
      "metadata": {
        "id": "view-in-github",
        "colab_type": "text"
      },
      "source": [
        "<a href=\"https://colab.research.google.com/github/Radhesh-Sarma/Emotion-Detection/blob/main/GA_SVM.ipynb\" target=\"_parent\"><img src=\"https://colab.research.google.com/assets/colab-badge.svg\" alt=\"Open In Colab\"/></a>"
      ]
    },
    {
      "cell_type": "markdown",
      "metadata": {
        "id": "7givvnDdcs_n"
      },
      "source": [
        "# Genetic Algorithm for feature selection"
      ]
    },
    {
      "cell_type": "code",
      "metadata": {
        "id": "MzHNio76WOKy"
      },
      "source": [
        "import numpy\n",
        "import sklearn.svm\n",
        "from sklearn.linear_model import LogisticRegression\n",
        "import numpy\n",
        "import matplotlib.pyplot as plt\n",
        "import random\n",
        "import numpy as np\n",
        "import pandas as pd\n",
        "from sklearn import model_selection\n",
        "import warnings\n",
        "warnings.filterwarnings(\"ignore\")\n",
        "import seaborn as sns\n",
        "plt.style.use('seaborn')"
      ],
      "execution_count": null,
      "outputs": []
    },
    {
      "cell_type": "code",
      "metadata": {
        "id": "CjH7hHfWZh-K"
      },
      "source": [
        "def reduce_features(solution, features):\n",
        "    selected_elements_indices = numpy.where(solution == 1)[0]\n",
        "    reduced_features = features[:, selected_elements_indices]\n",
        "    return reduced_features\n",
        "\n",
        "def classification_accuracy(labels, predictions):\n",
        "    correct = numpy.where(labels == predictions)[0]\n",
        "    accuracy = correct.shape[0]/labels.shape[0]\n",
        "    return accuracy*100"
      ],
      "execution_count": null,
      "outputs": []
    },
    {
      "cell_type": "markdown",
      "metadata": {
        "id": "A4lvubtWpxUZ"
      },
      "source": [
        "## Classifier Models"
      ]
    },
    {
      "cell_type": "code",
      "metadata": {
        "id": "38z-PDzqZdyg"
      },
      "source": [
        "def cal_pop_fitness(pop, features, labels, train_indices, test_indices):\n",
        "    accuracies = numpy.zeros(pop.shape[0])\n",
        "    idx = 0\n",
        "\n",
        "    for curr_solution in pop:\n",
        "        reduced_features = reduce_features(curr_solution, features)\n",
        "        train_data = reduced_features[train_indices, :]\n",
        "        test_data = reduced_features[test_indices, :]\n",
        "\n",
        "        train_labels = labels[train_indices]\n",
        "        test_labels = labels[test_indices]\n",
        "\n",
        "        #SVM CLASSIFIER\n",
        "        SV_classifier = sklearn.svm.SVC(gamma='scale')\n",
        "        SV_classifier.fit(X=train_data, y=train_labels)\n",
        "        predictions = SV_classifier.predict(test_data)\n",
        "        \n",
        "        accuracies[idx] = classification_accuracy(test_labels, predictions)\n",
        "        idx = idx + 1\n",
        "    return accuracies"
      ],
      "execution_count": null,
      "outputs": []
    },
    {
      "cell_type": "markdown",
      "metadata": {
        "id": "SAmte2mqpnry"
      },
      "source": [
        "## Parent Selection"
      ]
    },
    {
      "cell_type": "code",
      "metadata": {
        "id": "iR94WPVSZmcw"
      },
      "source": [
        "#rank selection\n",
        "def rank_selection_mating_pool(pop, fitness, num_parents):\n",
        "    # Selecting the best individuals in the current generation as parents for producing the offspring of the next generation.\n",
        "    parents = numpy.empty((num_parents, pop.shape[1]))\n",
        "    for parent_num in range(num_parents):\n",
        "        max_fitness_idx = numpy.where(fitness == numpy.max(fitness))\n",
        "        max_fitness_idx = max_fitness_idx[0][0]\n",
        "        parents[parent_num, :] = pop[max_fitness_idx, :]\n",
        "        fitness[max_fitness_idx] = -99999999999\n",
        "    return parents\n",
        "\n",
        "#tournament selection\n",
        "def tournament_selection_mating_pool(pop, fitness, num_parents):\n",
        "    # Selecting the best individuals in the current generation as parents for producing the offspring of the next generation.\n",
        "    parents = numpy.empty((num_parents, pop.shape[1]))\n",
        "    k=numpy.uint8(pop.shape[0]/2)\n",
        "    for parent_num in range(num_parents):\n",
        "      tournament = [random.randint(0,len(fitness)-1) for i in range(k)]\n",
        "      fitnesses = [fitness[tournament[i]] for i in range(k)]\n",
        "      parents[parent_num, :]=pop[tournament[fitnesses.index(max(fitnesses))]]\n",
        "    return parents\n",
        "  \n",
        "#roulette wheel selection\n",
        "def roulette_wheel_selection(pop, fitness, num_parents):\n",
        "    # Selecting the best individuals in the current generation as parents for producing the offspring of the next generation.\n",
        "    parents = numpy.empty((num_parents, pop.shape[1]))\n",
        "    for parent_num in range(num_parents):\n",
        "      randomList = random.choices(pop, weights=fitness, k=1) \n",
        "      parents[parent_num, :]=randomList[0]\n",
        "    return parents"
      ],
      "execution_count": null,
      "outputs": []
    },
    {
      "cell_type": "markdown",
      "metadata": {
        "id": "4p8N-xqJpkoM"
      },
      "source": [
        "## Crossover"
      ]
    },
    {
      "cell_type": "code",
      "metadata": {
        "id": "s4B1QonEV-WM"
      },
      "source": [
        "#uniform point crossover\n",
        "def uniform_crossover(parents, offspring_size):\n",
        "    offspring = numpy.empty(offspring_size)\n",
        "\n",
        "    for k in range(offspring_size[0]):\n",
        "        # Index of the first parent to mate.\n",
        "        parent1_idx = k%parents.shape[0]\n",
        "        # Index of the second parent to mate.\n",
        "        parent2_idx = (k+1)%parents.shape[0]\n",
        "        #probability matrix\n",
        "        p=np.random.rand(offspring_size[1])\n",
        "\n",
        "        for i in range(offspring_size[1]):\n",
        "        # The new offspring will have its ith genes taken from the first parent if probability<0.5 and from the second parent if the probablility>=0.5.\n",
        "          if p[i]<0.5:\n",
        "            offspring[k,i:i+1] = parents[parent1_idx, i:i+1]\n",
        "          else:\n",
        "            offspring[k,i:i+1] = parents[parent2_idx, i:i+1]\n",
        "    return offspring\n",
        "\n",
        "#single point crossover\n",
        "def single_crossover(parents, offspring_size):\n",
        "    offspring = numpy.empty(offspring_size)\n",
        "    # The point at which crossover takes place between two parents\n",
        "    crossover_point = numpy.random.randint(low=0, high=offspring_size[1])\n",
        "\n",
        "    for k in range(offspring_size[0]):\n",
        "        # Index of the first parent to mate.\n",
        "        parent1_idx = k%parents.shape[0]\n",
        "        # Index of the second parent to mate.\n",
        "        parent2_idx = (k+1)%parents.shape[0]\n",
        "        # The new offspring will have its first half of its genes taken from the first parent.\n",
        "        offspring[k, 0:crossover_point] = parents[parent1_idx, 0:crossover_point]\n",
        "        # The new offspring will have its second half of its genes taken from the second parent.\n",
        "        offspring[k, crossover_point:] = parents[parent2_idx, crossover_point:]\n",
        "    return offspring\n",
        "\n",
        "#two point crossover\n",
        "def two_point_crossover(parents, offspring_size):\n",
        "    offspring = numpy.empty(offspring_size)\n",
        "    # The points at which crossover takes place between two parents\n",
        "    crossover_point_1 = numpy.random.randint(low=0, high=offspring_size[1]-2)\n",
        "    crossover_point_2 = numpy.random.randint(low=crossover_point_1+1, high=offspring_size[1])\n",
        "\n",
        "    for k in range(offspring_size[0]):\n",
        "        # Index of the first parent to mate.\n",
        "        parent1_idx = k%parents.shape[0]\n",
        "        # Index of the second parent to mate.\n",
        "        parent2_idx = (k+1)%parents.shape[0]\n",
        "        # The new offspring will have its first half of its genes taken from the second parent.\n",
        "        offspring[k, 0:crossover_point_1] = parents[parent2_idx, 0:crossover_point_1]\n",
        "        # The new offspring will have its second half of its genes taken from the first parent.\n",
        "        offspring[k, crossover_point_1:crossover_point_2] = parents[parent1_idx, crossover_point_1:crossover_point_2]\n",
        "        # The new offspring will have its third half of its genes taken from the second parent.\n",
        "        offspring[k, crossover_point_2:] = parents[parent2_idx, crossover_point_2:]\n",
        "    return offspring"
      ],
      "execution_count": null,
      "outputs": []
    },
    {
      "cell_type": "markdown",
      "metadata": {
        "id": "0CS4uqFqqDEF"
      },
      "source": [
        "## Mutation"
      ]
    },
    {
      "cell_type": "code",
      "metadata": {
        "id": "fsCLRFTOZqCU"
      },
      "source": [
        "#bit flip mutation\n",
        "def bit_flip_mutation(offspring_crossover, num_mutations):\n",
        "    mutation_idx = numpy.random.randint(low=0, high=offspring_crossover.shape[1], size=num_mutations)\n",
        "    # Mutation changes a single gene in each offspring randomly.\n",
        "    for idx in range(offspring_crossover.shape[0]):\n",
        "        # The random value to be added to the gene.\n",
        "        offspring_crossover[idx, mutation_idx] = 1 - offspring_crossover[idx, mutation_idx]\n",
        "    return offspring_crossover\n",
        "\n",
        "#swap mutation\n",
        "def swap_mutation(offspring_crossover, num_mutations):\n",
        "    mutation_idx_1 = numpy.random.randint(low=0, high=offspring_crossover.shape[1], size=num_mutations)\n",
        "    mutation_idx_2 = numpy.random.randint(low=0, high=offspring_crossover.shape[1], size=num_mutations)\n",
        "    # Mutation changes a single gene in each offspring randomly.\n",
        "    for idx in range(offspring_crossover.shape[0]):\n",
        "        # The random value to be added to the gene.\n",
        "        temp=offspring_crossover[idx, mutation_idx_1]\n",
        "        offspring_crossover[idx, mutation_idx_1] = offspring_crossover[idx, mutation_idx_2]\n",
        "        offspring_crossover[idx, mutation_idx_2] = temp\n",
        "    return offspring_crossover\n",
        "\n",
        "#inverse mutation\n",
        "def inverse_mutation(offspring_crossover, num_mutations):\n",
        "    # Mutation changes a single gene in each offspring randomly.\n",
        "    for idx in range(offspring_crossover.shape[0]):\n",
        "      val=numpy.random.randint(low=0, high=offspring_crossover.shape[1]-num_mutations-1)\n",
        "      temp=offspring_crossover[idx]\n",
        "      np.flip(temp)\n",
        "      for j in range(val,val+num_mutations):\n",
        "        offspring_crossover[idx,j:j+1]=temp[j]\n",
        "    return offspring_crossover"
      ],
      "execution_count": null,
      "outputs": []
    },
    {
      "cell_type": "code",
      "metadata": {
        "id": "QSX-enuOWJSs"
      },
      "source": [
        "def normalize(dataset):\n",
        "    dataNorm=((dataset-dataset.mean())/(dataset.std()))\n",
        "    dataNorm[\"Sad\"]=dataset[\"Sad\"]\n",
        "    return dataNorm"
      ],
      "execution_count": null,
      "outputs": []
    },
    {
      "cell_type": "code",
      "metadata": {
        "id": "9VSg78pmWooo",
        "outputId": "4b05d3e2-bb85-462e-d633-fd3df43a9a8e",
        "colab": {
          "base_uri": "https://localhost:8080/"
        }
      },
      "source": [
        "df = pd.read_csv('Final.csv')\n",
        "df=df.drop(['face'],1)\n",
        "df=df.drop(['Unnamed: 0'],1)\n",
        "df=df.drop(['Unnamed: 0.1'],1)\n",
        "df=df.drop(['Unnamed: 0.1.1'],1)\n",
        "df = df.sample(frac = 1) \n",
        "print(df)\n",
        "  \n",
        "df = normalize(df)\n",
        "\n",
        "x = np.array(df.drop(['Sad'],1))\n",
        "y = np.array(df['Sad'])\n",
        "\n",
        "data_inputs = x\n",
        "data_outputs = y"
      ],
      "execution_count": null,
      "outputs": [
        {
          "output_type": "stream",
          "text": [
            "     Sad  confidence  gaze_0_x  gaze_0_y  ...  AU25_c  AU26_c  AU28_c  AU45_c\n",
            "102    1       0.975  0.157748  0.109476  ...     0.0     0.0     1.0     0.0\n",
            "81     0       0.975  0.165215  0.200222  ...     1.0     1.0     0.0     1.0\n",
            "21     0       0.975  0.098539  0.253584  ...     1.0     1.0     0.0     0.0\n",
            "199    1       0.975  0.041815  0.152777  ...     0.0     0.0     1.0     0.0\n",
            "132    1       0.975  0.136535  0.272108  ...     0.0     1.0     0.0     1.0\n",
            "..   ...         ...       ...       ...  ...     ...     ...     ...     ...\n",
            "162    1       0.975 -0.014247  0.205987  ...     0.0     1.0     0.0     1.0\n",
            "139    1       0.975  0.074425  0.033343  ...     0.0     0.0     0.0     0.0\n",
            "123    1       0.975  0.023564  0.130799  ...     0.0     1.0     0.0     0.0\n",
            "189    1       0.975 -0.089149  0.105650  ...     0.0     0.0     0.0     0.0\n",
            "138    1       0.975  0.080415  0.131316  ...     0.0     1.0     1.0     0.0\n",
            "\n",
            "[205 rows x 711 columns]\n"
          ],
          "name": "stdout"
        }
      ]
    },
    {
      "cell_type": "code",
      "metadata": {
        "id": "pXC_ZlXqay12"
      },
      "source": [
        "num_samples = data_inputs.shape[0]\n",
        "num_feature_elements = data_inputs.shape[1]\n",
        "\n",
        "train_indices = numpy.arange(0,num_samples*0.7*(0.7), 1,int)\n",
        "val_indices = numpy.arange(num_samples*0.7*(0.7)+1,num_samples*0.7, 1,int)\n",
        "test_indices_1 = numpy.arange((num_samples*0.7)+1, num_samples*0.7+num_samples*0.3*0.7, 1,int)\n",
        "test_indices_2 = numpy.arange(num_samples*0.7+num_samples*0.7*0.3+1, num_samples, 1,int)"
      ],
      "execution_count": null,
      "outputs": []
    },
    {
      "cell_type": "code",
      "metadata": {
        "id": "dfyLcpWuiI5H"
      },
      "source": [
        "def select_mating_pool(new_population, fitness, num_parents_mating,type = \"rank\"):\n",
        "  if(type == \"rank\"):\n",
        "    return rank_selection_mating_pool(new_population, fitness, num_parents_mating)\n",
        "  if(type == \"tournament\"):\n",
        "    return tournament_selection_mating_pool(new_population, fitness, num_parents_mating)\n",
        "  if(type == \"roulette\"):\n",
        "    return roulette_wheel_selection(new_population, fitness, num_parents_mating)\n"
      ],
      "execution_count": null,
      "outputs": []
    },
    {
      "cell_type": "code",
      "metadata": {
        "id": "zNt712o4jHWZ"
      },
      "source": [
        "def select_cross_over(parents, offspring_size,type = \"uniform\"):\n",
        "  if(type == \"uniform\"):\n",
        "    return uniform_crossover(parents, offspring_size)\n",
        "  if(type == \"single\"):\n",
        "    return single_crossover(parents, offspring_size)\n",
        "  if(type == \"two_point\"):\n",
        "    return two_point_crossover(parents, offspring_size)"
      ],
      "execution_count": null,
      "outputs": []
    },
    {
      "cell_type": "code",
      "metadata": {
        "id": "VcyCSkh0liro"
      },
      "source": [
        "def select_mutation(offspring_crossover, num_mutations,type = \"inverse\"):\n",
        "  if(type == \"bit\"):\n",
        "    return bit_flip_mutation(offspring_crossover, num_mutations)\n",
        "  if(type == \"swap\"):\n",
        "    return swap_mutation(offspring_crossover, num_mutations)\n",
        "  if(type == \"inverse\"):\n",
        "    return inverse_mutation(offspring_crossover, num_mutations)"
      ],
      "execution_count": null,
      "outputs": []
    },
    {
      "cell_type": "code",
      "metadata": {
        "id": "yhZsVPNcg3ek"
      },
      "source": [
        "def GA(sol_per_pop,num_parents_mating,num_mutations,num_generations,verbose = True, mating = \"rank\",crossover = \"uniform\",mutation = \"inverse\"):\n",
        "  # Defining the population shape.\n",
        "  pop_shape = (sol_per_pop, num_feature_elements)\n",
        "  print(\"Mating : \" + str(mating))\n",
        "  print(\"Crossover : \" + str(crossover))\n",
        "  print(\"Mutation : \" + str(mutation))\n",
        "  # Creating the initial population.\n",
        "  new_population = numpy.random.randint(low=0, high=2, size=pop_shape)\n",
        "  best_population=new_population\n",
        "\n",
        "  best_outputs = []\n",
        "  for generation in range(num_generations):\n",
        "    if(generation%100 == 0 and verbose):\n",
        "      print(\"Generation : \", generation)\n",
        "    # Measuring the fitness of each chromosome in the population.\n",
        "    fitness = cal_pop_fitness(new_population, data_inputs, data_outputs, train_indices, val_indices)\n",
        "    # print(\"Fitness\")\n",
        "    # print(fitness)\n",
        "    # print(numpy.max(fitness))\n",
        "    if generation>1 and numpy.max(fitness)>=best_outputs[-1]:\n",
        "      best_population=new_population\n",
        "\n",
        "    best_outputs.append(numpy.max(fitness))\n",
        "    # The best result in the current iteration.\n",
        "    # print(\"Best fitness so far : \", best_outputs[-1])\n",
        "\n",
        "    # Selecting the best parents in the population for mating.\n",
        "    parents = select_mating_pool(new_population, fitness, num_parents_mating,type = mating)\n",
        "    # print(\"Parents\")\n",
        "    # print(parents)\n",
        "\n",
        "    # Generating next generation using crossover.\n",
        "    offspring_crossover = select_cross_over(parents, offspring_size=(pop_shape[0]-parents.shape[0], num_feature_elements),type = crossover)\n",
        "    # print(\"Crossover\")\n",
        "    # print(offspring_crossover)\n",
        "\n",
        "    # Adding some variations to the offspring using mutation.\n",
        "    offspring_mutation = select_mutation(offspring_crossover, num_mutations=num_mutations,type = mutation)\n",
        "    # print(\"Mutation\")\n",
        "    # print(offspring_mutation)\n",
        "\n",
        "    # Creating the new population based on the parents and offspring.\n",
        "    new_population[0:parents.shape[0], :] = parents\n",
        "    new_population[parents.shape[0]:, :] = offspring_mutation\n",
        "    # Getting the best solution after iterating finishing all generations.\n",
        "  # At first, the fitness is calculated for each solution in the final generation.\n",
        "  fitness = cal_pop_fitness(best_population, data_inputs, data_outputs, train_indices, val_indices)\n",
        "  # Then return the index of that solution corresponding to the best fitness.\n",
        "  best_match_idx = numpy.where(fitness == numpy.max(fitness))[0]\n",
        "  best_match_idx = best_match_idx[0]\n",
        "\n",
        "  best_solution = best_population[best_match_idx, :]\n",
        "  best_solution_indices = numpy.where(best_solution == 1)[0]\n",
        "  best_solution_num_elements = best_solution_indices.shape[0]\n",
        "  best_solution_fitness = fitness[best_match_idx]\n",
        "\n",
        "  print(\"best_solution : \", best_solution)\n",
        "  print(\"Selected indices : \", best_solution_indices)\n",
        "  print(\"Number of selected features : \", best_solution_num_elements)\n",
        "  print(\"Best solution fitness(Training accuracy) : \", best_solution_fitness)\n",
        "\n",
        "\n",
        "\n",
        "  \n",
        "  features=df.columns\n",
        "  Dict = {}\n",
        "  for i in range(0,best_solution_num_elements):\n",
        "    Dict[i]=features[best_solution_indices[i]]\n",
        "  import operator\n",
        "  sorted_x = sorted(Dict.items(), key=operator.itemgetter(1),reverse=True)\n",
        "  print(\"Printing features in the best feature subset\")\n",
        "  x=0\n",
        "  for i in sorted_x:\n",
        "    print(x,\":\",i[1])\n",
        "    x=x+1\n",
        "\n",
        "\n",
        "  print(best_outputs) \n",
        "  \n",
        "  plt.plot(best_outputs)\n",
        "  plt.xlabel(\"No of Generations\")\n",
        "  plt.ylabel(\"$Fitness(\\Theta)$\")\n",
        "  plt.title(\"Plot of Fitness Function v/s Generations\")\n",
        "  plt.show()   \n",
        "\n",
        "\n",
        "\n",
        "  \n",
        "  fitness = cal_pop_fitness(best_population, data_inputs, data_outputs, test_indices_1, test_indices_2)\n",
        "  testacc=numpy.max(fitness)\n",
        "  print(\"Testing Accuracy of the best solution is : \", testacc)\n"
      ],
      "execution_count": null,
      "outputs": []
    },
    {
      "cell_type": "code",
      "metadata": {
        "id": "Nahv1KYam_64"
      },
      "source": [
        "matings = [\"rank\",\"tournament\",\"roulette\"]\n",
        "cross_overs = [\"uniform\",\"single\",\"two_point\"]\n",
        "mutations = [\"bit\",\"swap\",\"inverse\"]\n",
        "\n",
        "for mating in matings:\n",
        "  for cross_over in cross_overs:\n",
        "    for mutation in mutations:\n",
        "      GA(sol_per_pop = 20,num_parents_mating = 10,num_mutations = 70,num_generations = 1000,mating = mating,crossover = cross_over,mutation = mutation)"
      ],
      "execution_count": null,
      "outputs": []
    },
    {
      "cell_type": "code",
      "metadata": {
        "id": "otyVCmVCsfyk"
      },
      "source": [
        ""
      ],
      "execution_count": null,
      "outputs": []
    }
  ]
}